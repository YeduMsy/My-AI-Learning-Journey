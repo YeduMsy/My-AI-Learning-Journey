{
  "nbformat": 4,
  "nbformat_minor": 0,
  "metadata": {
    "colab": {
      "provenance": [],
      "collapsed_sections": [
        "LlZslkKDBDBM",
        "21dpyVvpBBVB",
        "C-lO-EFDIHjT",
        "_ZIgaMQrQDH6",
        "9uqnQGwbTqJZ",
        "od0hrC9O2pdW",
        "zw8KT7MG0M5t",
        "_nepZ6IlzrpP",
        "n8IVP9fP3Gxe",
        "ZUXC5Y7V3L9M",
        "ltEiqdeQyTky",
        "eIMTyZbL3KdZ"
      ]
    },
    "kernelspec": {
      "name": "python3",
      "display_name": "Python 3"
    },
    "language_info": {
      "name": "python"
    }
  },
  "cells": [
    {
      "cell_type": "markdown",
      "source": [
        "## **Lesson 1:  List and Dictionaries**"
      ],
      "metadata": {
        "id": "LlZslkKDBDBM"
      }
    },
    {
      "cell_type": "code",
      "execution_count": null,
      "metadata": {
        "colab": {
          "base_uri": "https://localhost:8080/"
        },
        "id": "eXH2sX354m6n",
        "outputId": "97cbf620-9ebf-42f8-c67b-447ab3fc4405"
      },
      "outputs": [
        {
          "output_type": "stream",
          "name": "stdout",
          "text": [
            "['Numpy', 'Pandas', 'Scikit-learn', 'Tensorflow']\n"
          ]
        }
      ],
      "source": [
        "ai_tools=[\"Numpy\",\"Pandas\",\"Scikit-learn\",\"Tensorflow\"]\n",
        "print(ai_tools)"
      ]
    },
    {
      "cell_type": "code",
      "source": [
        "first_tool=ai_tools[0]\n",
        "print(f\"The first tool to learn is {first_tool}\")\n",
        "ml_library=ai_tools[2]\n",
        "print(f\"One of the ML libraries is the {ml_library} \")"
      ],
      "metadata": {
        "colab": {
          "base_uri": "https://localhost:8080/"
        },
        "id": "COUfPwpL6rsC",
        "outputId": "4d12ab9f-7658-46f2-dc67-69ecd3fe9323"
      },
      "execution_count": null,
      "outputs": [
        {
          "output_type": "stream",
          "name": "stdout",
          "text": [
            "The first tool to learn is Numpy\n",
            "One of the ML libraries is the Scikit-learn \n"
          ]
        }
      ]
    },
    {
      "cell_type": "code",
      "source": [
        "ai_tools.append(\"Pytorch\")\n",
        "print(f\"The updated list is {ai_tools}\")\n",
        "ai_tools[0]=\"Awesome NumPy\"\n",
        "print(f\"The updated list is {ai_tools}\")"
      ],
      "metadata": {
        "colab": {
          "base_uri": "https://localhost:8080/"
        },
        "id": "d8qMfLIZ7R-4",
        "outputId": "44115a99-99b9-4fd9-8f7b-0b46aab0b5c4"
      },
      "execution_count": null,
      "outputs": [
        {
          "output_type": "stream",
          "name": "stdout",
          "text": [
            "The updated list is ['Numpy', 'Pandas', 'Scikit-learn', 'Tensorflow', 'Pytorch']\n",
            "The updated list is ['Awesome NumPy', 'Pandas', 'Scikit-learn', 'Tensorflow', 'Pytorch']\n"
          ]
        }
      ]
    },
    {
      "cell_type": "code",
      "source": [
        "model_info={\n",
        "    \"name\":\"Decision Tree\",\n",
        "    \"type\":\"Supervised Learning\",\n",
        "    \"accuracy\":0.92,\n",
        "    \"is_deep_learning\":False\n",
        "}\n",
        "print(model_info)"
      ],
      "metadata": {
        "colab": {
          "base_uri": "https://localhost:8080/"
        },
        "id": "btFUzKj18D8h",
        "outputId": "4abee980-3961-41d3-8ce2-a2bbd89b9c17"
      },
      "execution_count": null,
      "outputs": [
        {
          "output_type": "stream",
          "name": "stdout",
          "text": [
            "{'name': 'Decision Tree', 'type': 'Supervised Learning', 'accuracy': 0.92, 'is_deep_learning': False}\n"
          ]
        }
      ]
    },
    {
      "cell_type": "code",
      "source": [
        "model_name=model_info[\"name\"]\n",
        "model_accuracy=model_info[\"accuracy\"]\n",
        "print(f\"The model {model_name} has an accuracy of {model_accuracy}\")"
      ],
      "metadata": {
        "colab": {
          "base_uri": "https://localhost:8080/"
        },
        "id": "Jyp0hA1J8_v1",
        "outputId": "320beee7-e74d-4124-e4dd-db870d2c9b3f"
      },
      "execution_count": null,
      "outputs": [
        {
          "output_type": "stream",
          "name": "stdout",
          "text": [
            "The model Decision Tree has an accuracy of 0.92\n"
          ]
        }
      ]
    },
    {
      "cell_type": "code",
      "source": [
        "model_info[\"accuracy\"]=0.93\n",
        "model_info[\"library\"]=\"Scikit-learn\"\n",
        "print(f\"The updated model info is {model_info}\")"
      ],
      "metadata": {
        "colab": {
          "base_uri": "https://localhost:8080/"
        },
        "id": "qf2qLTqv948C",
        "outputId": "aa8a3e60-1869-46b4-8c4b-5c7df8183fd9"
      },
      "execution_count": null,
      "outputs": [
        {
          "output_type": "stream",
          "name": "stdout",
          "text": [
            "The updated model info is {'name': 'Decision Tree', 'type': 'Supervised Learning', 'accuracy': 0.93, 'is_deep_learning': False, 'library': 'Scikit-learn'}\n"
          ]
        }
      ]
    },
    {
      "cell_type": "code",
      "source": [
        "kerala_cities=[\"Thiruvananthapuram\",\"Kottayam\",\"Thrissur\",\"Kannur\"]\n",
        "print(f\"The second city in the list is {kerala_cities[1]}\")\n",
        "kerala_cities.append(\"Kochi\")\n",
        "my_learning_setup={\n",
        "    \"computer\":\"laptop\",\n",
        "    \"goal\":\"ai_mastery\",\n",
        "    \"hours_per_day\":6\n",
        "}\n",
        "print(my_learning_setup[\"goal\"])"
      ],
      "metadata": {
        "colab": {
          "base_uri": "https://localhost:8080/"
        },
        "id": "DVjvnoXF-kSL",
        "outputId": "95219e75-86a7-497d-ee05-9283e7a2ff25"
      },
      "execution_count": null,
      "outputs": [
        {
          "output_type": "stream",
          "name": "stdout",
          "text": [
            "The second city in the list is Kottayam\n",
            "ai_mastery\n"
          ]
        }
      ]
    },
    {
      "cell_type": "code",
      "source": [],
      "metadata": {
        "id": "Ql9Slwq7AVO7"
      },
      "execution_count": null,
      "outputs": []
    },
    {
      "cell_type": "markdown",
      "source": [
        "## **Lesson 2: Loops and Conditionals**"
      ],
      "metadata": {
        "id": "21dpyVvpBBVB"
      }
    },
    {
      "cell_type": "code",
      "source": [
        "for city in kerala_cities:\n",
        "    print(f\"{city} is a major city in Kerala.\")"
      ],
      "metadata": {
        "colab": {
          "base_uri": "https://localhost:8080/"
        },
        "id": "mlAHnXpaB6UN",
        "outputId": "3ca21eb8-482a-47b0-ccc0-444d3ae8e3e1"
      },
      "execution_count": null,
      "outputs": [
        {
          "output_type": "stream",
          "name": "stdout",
          "text": [
            "Thiruvananthapuram is a major city in Kerala.\n",
            "Kottayam is a major city in Kerala.\n",
            "Thrissur is a major city in Kerala.\n",
            "Kannur is a major city in Kerala.\n",
            "Kochi is a major city in Kerala.\n"
          ]
        }
      ]
    },
    {
      "cell_type": "code",
      "source": [
        "for key,value in model_info.items():\n",
        "  print(f\"The key is {key} and the value is {value}\")"
      ],
      "metadata": {
        "colab": {
          "base_uri": "https://localhost:8080/"
        },
        "id": "jnFrzDLWCo8p",
        "outputId": "92f63d3e-2d37-40ab-b732-0f231bb91fa0"
      },
      "execution_count": null,
      "outputs": [
        {
          "output_type": "stream",
          "name": "stdout",
          "text": [
            "The key is name and the value is Decision Tree\n",
            "The key is type and the value is Supervised Learning\n",
            "The key is accuracy and the value is 0.93\n",
            "The key is is_deep_learning and the value is False\n",
            "The key is library and the value is Scikit-learn\n"
          ]
        }
      ]
    },
    {
      "cell_type": "code",
      "source": [
        "accuracy_score=float(input(\"Enter the accuracy score of the model: \"))\n",
        "if accuracy_score > 0.9:\n",
        "  print(\"Excellent! The model has impressive accuracy.\")\n",
        "elif accuracy_score>0.7:\n",
        "  print(\"Good! The model has decent accuracy.\")\n",
        "else:\n",
        "  print(\"The model requires more looking into.\")"
      ],
      "metadata": {
        "colab": {
          "base_uri": "https://localhost:8080/"
        },
        "id": "2pXAnGKDD3rY",
        "outputId": "30727e40-0623-48fa-bfed-ebc8649fecc1"
      },
      "execution_count": null,
      "outputs": [
        {
          "output_type": "stream",
          "name": "stdout",
          "text": [
            "Enter the accuracy score of the model: 0.98\n",
            "Excellent! The model has impressive accuracy.\n"
          ]
        }
      ]
    },
    {
      "cell_type": "code",
      "source": [
        "for tool in ai_tools:\n",
        "  if tool == \"Tensorflow\" or tool == \"Pytorch\":\n",
        "    print(f\"->{tool} is a powerful Deep Learning framework!\")\n",
        "  else:\n",
        "    print(f\"->{tool} is a classic data science library.\")"
      ],
      "metadata": {
        "colab": {
          "base_uri": "https://localhost:8080/"
        },
        "id": "8KTiJ9sIFTAd",
        "outputId": "1b420f88-ec2f-48ef-8e43-6ce7a5738615"
      },
      "execution_count": null,
      "outputs": [
        {
          "output_type": "stream",
          "name": "stdout",
          "text": [
            "->Awesome NumPy is a classic data science library.\n",
            "->Pandas is a classic data science library.\n",
            "->Scikit-learn is a classic data science library.\n",
            "->Tensorflow is a powerful Deep Learning framework!\n",
            "->Pytorch is a powerful Deep Learning framework!\n"
          ]
        }
      ]
    },
    {
      "cell_type": "code",
      "source": [
        "numbers=[4,6,7,25,28,30,38,44]\n",
        "for i in numbers:\n",
        "  if i%2==0:\n",
        "    print(f\"{i} is an even number!!\")\n",
        "  else:\n",
        "    print(f\"{i} is a odd number!!\")"
      ],
      "metadata": {
        "colab": {
          "base_uri": "https://localhost:8080/"
        },
        "id": "wX9v-qrtGasc",
        "outputId": "386aaf62-78da-4690-a0d8-0ac4a36f203b"
      },
      "execution_count": null,
      "outputs": [
        {
          "output_type": "stream",
          "name": "stdout",
          "text": [
            "4 is an even number!!\n",
            "6 is an even number!!\n",
            "7 is a odd number!!\n",
            "25 is a odd number!!\n",
            "28 is an even number!!\n",
            "30 is an even number!!\n",
            "38 is an even number!!\n",
            "44 is an even number!!\n"
          ]
        }
      ]
    },
    {
      "cell_type": "markdown",
      "source": [
        "## **Lesson 3: Functions - Creating Reusable Code Blocks**"
      ],
      "metadata": {
        "id": "C-lO-EFDIHjT"
      }
    },
    {
      "cell_type": "code",
      "source": [
        "def greet():\n",
        "  print(\"Welcome to your Python lessons!\")\n",
        "  print(\"We are now learning about functions.\")\n",
        "greet()\n",
        "print(\"One more time\")\n",
        "greet()"
      ],
      "metadata": {
        "colab": {
          "base_uri": "https://localhost:8080/"
        },
        "id": "uCMqs_8AIQLG",
        "outputId": "53f81321-da67-4190-c845-c8561d511f37"
      },
      "execution_count": null,
      "outputs": [
        {
          "output_type": "stream",
          "name": "stdout",
          "text": [
            "Welcome to your Python lessons!\n",
            "We are now learning about functions.\n",
            "One more time\n",
            "Welcome to your Python lessons!\n",
            "We are now learning about functions.\n"
          ]
        }
      ]
    },
    {
      "cell_type": "code",
      "source": [
        "def greet_user(name):\n",
        "  print(f\"Hello {name}! Its nice to meet you!\")\n",
        "fam=[\"Rino\",\"Abhishek\",\"Lerin\",\"Adharsh\",\"Adithya\",\"Gowri\",\"Karthika\",\"Yedu\"]\n",
        "for i in fam:\n",
        "  greet_user(i)\n"
      ],
      "metadata": {
        "colab": {
          "base_uri": "https://localhost:8080/"
        },
        "id": "dVfStpGRJBN4",
        "outputId": "3219cf7e-84ff-4e21-d977-24a6ea7c00ce"
      },
      "execution_count": null,
      "outputs": [
        {
          "output_type": "stream",
          "name": "stdout",
          "text": [
            "Hello Rino! Its nice to meet you!\n",
            "Hello Abhishek! Its nice to meet you!\n",
            "Hello Lerin! Its nice to meet you!\n",
            "Hello Adharsh! Its nice to meet you!\n",
            "Hello Adithya! Its nice to meet you!\n",
            "Hello Gowri! Its nice to meet you!\n",
            "Hello Karthika! Its nice to meet you!\n",
            "Hello Yedu! Its nice to meet you!\n"
          ]
        }
      ]
    },
    {
      "cell_type": "code",
      "source": [
        "def is_even(number):\n",
        "  if number%2==0:\n",
        "    return True\n",
        "  else:\n",
        "    return False\n",
        "\n",
        "num=int(input(\"Enter a number: \"))\n",
        "check=is_even(num)\n",
        "print(f\"Is {num} an even number?\")\n",
        "if check == True:\n",
        "  print(\"Hell yeah it is!\")\n",
        "else:\n",
        "  print(\"Umm nah.\")"
      ],
      "metadata": {
        "colab": {
          "base_uri": "https://localhost:8080/"
        },
        "id": "p_AgbmBuLkSt",
        "outputId": "b38c84ce-5930-494b-ee6e-5e0cefd4e0b1"
      },
      "execution_count": null,
      "outputs": [
        {
          "output_type": "stream",
          "name": "stdout",
          "text": [
            "Enter a number: 14\n",
            "Is 14 an even number?\n",
            "Hell yeah it is!\n"
          ]
        }
      ]
    },
    {
      "cell_type": "code",
      "source": [
        "def calculate_area(len,wid):\n",
        "  area=len*wid\n",
        "  return area\n",
        "\n",
        "length=int(input(\"Enter the length: \"))\n",
        "width=int(input(\"Enter the width: \"))\n",
        "rectangle_area=calculate_area(length,width)\n",
        "print(f\"The area of the rectangle is {rectangle_area} square units.\")"
      ],
      "metadata": {
        "colab": {
          "base_uri": "https://localhost:8080/"
        },
        "id": "C5M8YHntNfdv",
        "outputId": "2f6307f7-29ca-4b4c-c611-066071ddf328"
      },
      "execution_count": null,
      "outputs": [
        {
          "output_type": "stream",
          "name": "stdout",
          "text": [
            "Enter the length: 14\n",
            "Enter the width: 2\n",
            "The area of the rectangle is 28 square units.\n"
          ]
        }
      ]
    },
    {
      "cell_type": "markdown",
      "source": [
        "## **Lesson 4: Importing Modules - Using External Code**"
      ],
      "metadata": {
        "id": "_ZIgaMQrQDH6"
      }
    },
    {
      "cell_type": "code",
      "source": [
        "import math\n",
        "square_root=math.sqrt(25)\n",
        "print(f\"The square root of 25 is {square_root}\")"
      ],
      "metadata": {
        "id": "EK9wOrBPQJHB",
        "colab": {
          "base_uri": "https://localhost:8080/"
        },
        "outputId": "aa969f64-4589-4aca-99b2-e9c9cacda73e"
      },
      "execution_count": null,
      "outputs": [
        {
          "output_type": "stream",
          "name": "stdout",
          "text": [
            "The square root of 25 is 5.0\n"
          ]
        }
      ]
    },
    {
      "cell_type": "code",
      "source": [
        "import math\n",
        "radius=int(input(\"Enter the radius of the circle: \"))\n",
        "r=math.pow(radius,2)\n",
        "area=math.pi*r\n",
        "print(f\"The area of the circle of radius {radius} is {area}\")"
      ],
      "metadata": {
        "colab": {
          "base_uri": "https://localhost:8080/"
        },
        "id": "PAT9dhmARqUZ",
        "outputId": "5e30ba36-8400-4f6f-eb32-f20a89f6a4f6"
      },
      "execution_count": null,
      "outputs": [
        {
          "output_type": "stream",
          "name": "stdout",
          "text": [
            "Enter the radius of the circle: 2\n",
            "The area of the circle of radius 2 is 12.566370614359172\n"
          ]
        }
      ]
    },
    {
      "cell_type": "markdown",
      "source": [
        "## **Lesson 5: Introduction to NumPy**"
      ],
      "metadata": {
        "id": "9uqnQGwbTqJZ"
      }
    },
    {
      "cell_type": "code",
      "source": [
        "import numpy as np\n",
        "my_list=[1,2,3,4,5]\n",
        "my_numpy_array=np.array(my_list)\n",
        "print(f\"The normal array is {my_list}\")\n",
        "print(f\"The numpy array is {my_numpy_array}\")\n"
      ],
      "metadata": {
        "colab": {
          "base_uri": "https://localhost:8080/"
        },
        "id": "io2bJmRKTs3K",
        "outputId": "a79427b5-d483-4e26-96e2-21366c6ce06f"
      },
      "execution_count": null,
      "outputs": [
        {
          "output_type": "stream",
          "name": "stdout",
          "text": [
            "The normal array is [1, 2, 3, 4, 5]\n",
            "The numpy array is [1 2 3 4 5]\n"
          ]
        }
      ]
    },
    {
      "cell_type": "code",
      "source": [
        "doubled_list=[item*2 for item in my_list]\n",
        "print(f\"Doubled list is {doubled_list}\")\n",
        "doubled_array=my_numpy_array*2\n",
        "print(f\"Doubled array is {doubled_array}\")"
      ],
      "metadata": {
        "colab": {
          "base_uri": "https://localhost:8080/"
        },
        "id": "OK3hkScJebbA",
        "outputId": "926bd02b-6e66-473b-9575-a9371b615086"
      },
      "execution_count": null,
      "outputs": [
        {
          "output_type": "stream",
          "name": "stdout",
          "text": [
            "Doubled list is [2, 4, 6, 8, 10]\n",
            "Doubled array is [ 2  4  6  8 10]\n"
          ]
        }
      ]
    },
    {
      "cell_type": "code",
      "source": [
        "import numpy as np\n",
        "my_temps_celsius=[0,10,20,30,40]\n",
        "numpy_temps_celsius=np.array(my_temps_celsius)\n",
        "numpy_temps_fahrenheit=(numpy_temps_celsius*(9/5))+32\n",
        "print(f\"The temperature in Celsius is {numpy_temps_celsius}\")\n",
        "print(f\"The temperature in Fahrenheit is {numpy_temps_fahrenheit}\")\n"
      ],
      "metadata": {
        "colab": {
          "base_uri": "https://localhost:8080/"
        },
        "id": "J1kZym31fEDW",
        "outputId": "60b246bb-9c62-4089-bbf8-37c05ef48024"
      },
      "execution_count": null,
      "outputs": [
        {
          "output_type": "stream",
          "name": "stdout",
          "text": [
            "The temperature in Celsius is [ 0 10 20 30 40]\n",
            "The temperature in Fahrenheit is [ 32.  50.  68.  86. 104.]\n"
          ]
        }
      ]
    },
    {
      "cell_type": "markdown",
      "source": [
        "### Part B: More Array Creation Methods and Attributes"
      ],
      "metadata": {
        "id": "jteyq0vN-eux"
      }
    },
    {
      "cell_type": "code",
      "source": [
        "import numpy as np\n",
        "my_range_array= np.arange(0,10)\n",
        "print(f\"np.arange(0,10)-> {my_range_array}\")"
      ],
      "metadata": {
        "colab": {
          "base_uri": "https://localhost:8080/"
        },
        "id": "fT5q2pxx-fz4",
        "outputId": "e1dac8b3-484f-49d4-ed68-e1026756aed5"
      },
      "execution_count": null,
      "outputs": [
        {
          "output_type": "stream",
          "name": "stdout",
          "text": [
            "np.arange(0,10)-> [0 1 2 3 4 5 6 7 8 9]\n"
          ]
        }
      ]
    },
    {
      "cell_type": "code",
      "source": [
        "my_linspace_array=np.linspace(0,1,5)\n",
        "print(f\"np.linspace(0,1,5)-> {my_linspace_array}\")"
      ],
      "metadata": {
        "colab": {
          "base_uri": "https://localhost:8080/"
        },
        "id": "hH59iEZWCKoP",
        "outputId": "c8010353-c2d6-4200-8a84-c176b05457c9"
      },
      "execution_count": null,
      "outputs": [
        {
          "output_type": "stream",
          "name": "stdout",
          "text": [
            "np.linspace(0,1,5)-> [0.   0.25 0.5  0.75 1.  ]\n"
          ]
        }
      ]
    },
    {
      "cell_type": "code",
      "source": [
        "print(f\"Shape: {my_linspace_array.shape}\")\n",
        "print(f\"Number of Dimensions: {my_linspace_array.ndim}\")\n",
        "print(f\"Data type: {my_linspace_array.dtype}\")"
      ],
      "metadata": {
        "colab": {
          "base_uri": "https://localhost:8080/"
        },
        "id": "GNccV3m9CSKr",
        "outputId": "9382ef0e-0347-4dd5-e02f-488efe2be5de"
      },
      "execution_count": null,
      "outputs": [
        {
          "output_type": "stream",
          "name": "stdout",
          "text": [
            "Shape: (5,)\n",
            "Number of Dimensions: 1\n",
            "Data type: float64\n"
          ]
        }
      ]
    },
    {
      "cell_type": "code",
      "source": [
        "even=np.arange(2,21,2)\n",
        "print(f\"Even numbers from 2 to 20 are {even}\")\n",
        "print(f\"Shape = {even.shape}\")\n",
        "print(f\"Dimension = {even.ndim}\")\n",
        "print(f\"Data Type = {even.dtype}\")"
      ],
      "metadata": {
        "colab": {
          "base_uri": "https://localhost:8080/"
        },
        "id": "ISuZz24-G3_w",
        "outputId": "b9c6819d-b975-4eab-897a-700e37508ed8"
      },
      "execution_count": null,
      "outputs": [
        {
          "output_type": "stream",
          "name": "stdout",
          "text": [
            "Even numbers from 2 to 20 are [ 2  4  6  8 10 12 14 16 18 20]\n",
            "Shape = (10,)\n",
            "Dimension = 1\n",
            "Data Type = int64\n"
          ]
        }
      ]
    },
    {
      "cell_type": "markdown",
      "source": [
        "### Part C: NumPy Indexing and Slicing"
      ],
      "metadata": {
        "id": "_MxlBMb0HukQ"
      }
    },
    {
      "cell_type": "code",
      "source": [
        "import numpy as np\n",
        "my_array=np.arange(10)\n",
        "print(f\"Original array is {my_array}\")\n",
        "print(f\"Element in index 3 is {my_array[3]}\")\n",
        "print(f\"Elements from index 2 to 7 is {my_array[2:7]}\")\n",
        "# doesn't include element from index 7"
      ],
      "metadata": {
        "colab": {
          "base_uri": "https://localhost:8080/"
        },
        "id": "4iXPl2SmHvhk",
        "outputId": "91aede4a-ed55-4ac3-fdff-4a5e35a52d21"
      },
      "execution_count": null,
      "outputs": [
        {
          "output_type": "stream",
          "name": "stdout",
          "text": [
            "Original array is [0 1 2 3 4 5 6 7 8 9]\n",
            "Element in index 3 is 3\n",
            "Elements from index 2 to 7 is [2 3 4 5 6]\n"
          ]
        }
      ]
    },
    {
      "cell_type": "code",
      "source": [
        "import numpy as np\n",
        "my_2d_array=np.array([\n",
        "    [1,2,3,4],\n",
        "    [5,6,7,8],\n",
        "    [9,10,11,12]\n",
        "])\n",
        "element=my_2d_array[1,2]\n",
        "print(f\"The element in row 2 column 3 is {element}\")\n",
        "row=my_2d_array[2]\n",
        "print(f\"The elements on row 3 are: {row}\")\n",
        "column=my_2d_array[:,3]\n",
        "print(f\"The elements in column 4 are: {column}\")"
      ],
      "metadata": {
        "colab": {
          "base_uri": "https://localhost:8080/"
        },
        "id": "UWEHqTWnJFWw",
        "outputId": "f40507f0-aadf-438f-bb3f-4bed7291c986"
      },
      "execution_count": null,
      "outputs": [
        {
          "output_type": "stream",
          "name": "stdout",
          "text": [
            "The element in row 2 column 3 is 7\n",
            "The elements on row 3 are: [ 9 10 11 12]\n",
            "The elements in column 4 are: [ 4  8 12]\n"
          ]
        }
      ]
    },
    {
      "cell_type": "code",
      "source": [
        "import numpy as np\n",
        "my_2d_array=np.array([\n",
        "    [1,2,3,4],\n",
        "    [5,6,7,8],\n",
        "    [9,10,11,12]\n",
        "])\n",
        "eleven=my_2d_array[2,2]\n",
        "print(eleven)\n",
        "print(my_2d_array[0,:])\n",
        "print(my_2d_array[1,1:3])"
      ],
      "metadata": {
        "colab": {
          "base_uri": "https://localhost:8080/"
        },
        "id": "rh6gwTXPyIkA",
        "outputId": "a8668908-e7be-4d2f-d585-0a820e05ebcd"
      },
      "execution_count": null,
      "outputs": [
        {
          "output_type": "stream",
          "name": "stdout",
          "text": [
            "11\n",
            "[1 2 3 4]\n",
            "[6 7]\n"
          ]
        }
      ]
    },
    {
      "cell_type": "markdown",
      "source": [
        "## **Lesson 6: Introduction to Pandas 🐼**"
      ],
      "metadata": {
        "id": "od0hrC9O2pdW"
      }
    },
    {
      "cell_type": "code",
      "source": [
        "import pandas as pd\n",
        "data={\n",
        "    'Name':['Alice','Bob','Charlie'],\n",
        "    'Age':[25,30,28],\n",
        "    'City':['New York','Los Angeles','Chicago']\n",
        "}\n",
        "df=pd.DataFrame(data)\n",
        "print(df)"
      ],
      "metadata": {
        "id": "BTY2GrV_2rnX",
        "colab": {
          "base_uri": "https://localhost:8080/"
        },
        "outputId": "d02ebee0-05c1-4ac7-a546-3297a9a554f2"
      },
      "execution_count": null,
      "outputs": [
        {
          "output_type": "stream",
          "name": "stdout",
          "text": [
            "      Name  Age         City\n",
            "0    Alice   25     New York\n",
            "1      Bob   30  Los Angeles\n",
            "2  Charlie   28      Chicago\n"
          ]
        }
      ]
    },
    {
      "cell_type": "code",
      "source": [
        "print(\"\\n--- First 5 Rows ---\")\n",
        "print(df.head())  # <-- Use print() here\n",
        "\n",
        "print(\"\\n--- DataFrame Info ---\")\n",
        "df.info()"
      ],
      "metadata": {
        "colab": {
          "base_uri": "https://localhost:8080/"
        },
        "id": "bhDV7iTxKjPW",
        "outputId": "ccbe1fbd-f6aa-47a1-bb36-841419debec7"
      },
      "execution_count": null,
      "outputs": [
        {
          "output_type": "stream",
          "name": "stdout",
          "text": [
            "\n",
            "--- First 5 Rows ---\n",
            "      Name  Age         City\n",
            "0    Alice   25     New York\n",
            "1      Bob   30  Los Angeles\n",
            "2  Charlie   28      Chicago\n",
            "\n",
            "--- DataFrame Info ---\n",
            "<class 'pandas.core.frame.DataFrame'>\n",
            "RangeIndex: 3 entries, 0 to 2\n",
            "Data columns (total 3 columns):\n",
            " #   Column  Non-Null Count  Dtype \n",
            "---  ------  --------------  ----- \n",
            " 0   Name    3 non-null      object\n",
            " 1   Age     3 non-null      int64 \n",
            " 2   City    3 non-null      object\n",
            "dtypes: int64(1), object(2)\n",
            "memory usage: 204.0+ bytes\n"
          ]
        }
      ]
    },
    {
      "cell_type": "code",
      "source": [
        "import pandas as pd\n",
        "fav_movies={\n",
        "    'Title':['Interstellar','Superman','Matrix'],\n",
        "    'Director':['Christopher Nolan','James Gunn','Lana Wachowski'],\n",
        "    'Year':['2014','2025','1999']\n",
        "}\n",
        "my_favorites_df=pd.DataFrame(fav_movies)\n",
        "print(my_favorites_df)"
      ],
      "metadata": {
        "colab": {
          "base_uri": "https://localhost:8080/"
        },
        "id": "NTYpgSmSLHGG",
        "outputId": "06059ae4-0a81-45b0-9179-9948ae4ec88f"
      },
      "execution_count": null,
      "outputs": [
        {
          "output_type": "stream",
          "name": "stdout",
          "text": [
            "          Title           Director  Year\n",
            "0  Interstellar  Christopher Nolan  2014\n",
            "1      Superman         James Gunn  2025\n",
            "2        Matrix     Lana Wachowski  1999\n"
          ]
        }
      ]
    },
    {
      "cell_type": "markdown",
      "source": [
        "### Part B: Selecting Data (Columns and Rows)"
      ],
      "metadata": {
        "id": "Jw_SHy3VXBBv"
      }
    },
    {
      "cell_type": "code",
      "source": [
        "titles=my_favorites_df['Title']\n",
        "print(\"--- Single Column(Titles) ---\")\n",
        "print(titles)\n",
        "info=my_favorites_df[['Title','Year']]\n",
        "print(\"\\n--- Multiple Column(Titles and Year) ---\")\n",
        "print(info)"
      ],
      "metadata": {
        "colab": {
          "base_uri": "https://localhost:8080/"
        },
        "id": "1VJZhpuWXCRu",
        "outputId": "6466dd74-f390-49f8-d4f8-1fd24d574a09"
      },
      "execution_count": null,
      "outputs": [
        {
          "output_type": "stream",
          "name": "stdout",
          "text": [
            "--- Single Column(Titles) ---\n",
            "0    Interstellar\n",
            "1        Superman\n",
            "2          Matrix\n",
            "Name: Title, dtype: object\n",
            "\n",
            "--- Multiple Column(Titles and Year) ---\n",
            "          Title  Year\n",
            "0  Interstellar  2014\n",
            "1      Superman  2025\n",
            "2        Matrix  1999\n"
          ]
        }
      ]
    },
    {
      "cell_type": "code",
      "source": [
        "interstellar_data=my_favorites_df.loc[0]\n",
        "print(\"\\n--- Row at index label 0 (.loc) ---\")\n",
        "print(interstellar_data)\n",
        "matrix_data=my_favorites_df.iloc[2]\n",
        "print(\"\\n--- Row at position 2 ---\")\n",
        "print(matrix_data)"
      ],
      "metadata": {
        "colab": {
          "base_uri": "https://localhost:8080/"
        },
        "id": "KTIZl_pHYSHS",
        "outputId": "d3735a22-4f76-41a0-db27-d536a996e88f"
      },
      "execution_count": null,
      "outputs": [
        {
          "output_type": "stream",
          "name": "stdout",
          "text": [
            "\n",
            "--- Row at index label 0 (.loc) ---\n",
            "Title            Interstellar\n",
            "Director    Christopher Nolan\n",
            "Year                     2014\n",
            "Name: 0, dtype: object\n",
            "\n",
            "--- Row at position 2 ---\n",
            "Title               Matrix\n",
            "Director    Lana Wachowski\n",
            "Year                  1999\n",
            "Name: 2, dtype: object\n"
          ]
        }
      ]
    },
    {
      "cell_type": "code",
      "source": [
        "director=my_favorites_df.loc[0,'Director']\n",
        "print(f\"Director of the movie in index 0 is {director}\")"
      ],
      "metadata": {
        "colab": {
          "base_uri": "https://localhost:8080/"
        },
        "id": "zAF79uaUaVIg",
        "outputId": "4ddd9d26-60b7-48ef-da6e-53539df1ccbb"
      },
      "execution_count": null,
      "outputs": [
        {
          "output_type": "stream",
          "name": "stdout",
          "text": [
            "Director of the movie in index 0 is Christopher Nolan\n"
          ]
        }
      ]
    },
    {
      "cell_type": "code",
      "source": [
        "yr=my_favorites_df['Year']\n",
        "super=my_favorites_df.loc[1]\n",
        "ltitle=my_favorites_df.iloc[-1,0]\n",
        "print(yr)\n",
        "print(\"\\n\",super)\n",
        "print(\"\\n\",ltitle)"
      ],
      "metadata": {
        "colab": {
          "base_uri": "https://localhost:8080/"
        },
        "id": "8TOVEHm0bumb",
        "outputId": "10f21e5c-6662-4539-e785-1a93437a0fe6"
      },
      "execution_count": null,
      "outputs": [
        {
          "output_type": "stream",
          "name": "stdout",
          "text": [
            "0    2014\n",
            "1    2025\n",
            "2    1999\n",
            "Name: Year, dtype: object\n",
            "\n",
            " Title         Superman\n",
            "Director    James Gunn\n",
            "Year              2025\n",
            "Name: 1, dtype: object\n",
            "\n",
            " Matrix\n"
          ]
        }
      ]
    },
    {
      "cell_type": "markdown",
      "source": [
        "### Part C: Conditional Filtering"
      ],
      "metadata": {
        "id": "7wsfoE0ZgdDb"
      }
    },
    {
      "cell_type": "code",
      "source": [
        "# First, let's make sure the 'Year' column is numeric\n",
        "my_favorites_df['Year']=pd.to_numeric(my_favorites_df['Year'])\n",
        "condition=my_favorites_df['Year']>2000\n",
        "print(\"--- Boolean Condition ---\")\n",
        "print(condition)\n",
        "\n",
        "movies_after_2000=my_favorites_df[condition]\n",
        "print(\"\\n--- Filtered DataFrame ---\")\n",
        "print(movies_after_2000)"
      ],
      "metadata": {
        "colab": {
          "base_uri": "https://localhost:8080/"
        },
        "id": "iG9fXq67dBWM",
        "outputId": "a984cfce-0285-44f8-8312-fed589a3c9c4"
      },
      "execution_count": null,
      "outputs": [
        {
          "output_type": "stream",
          "name": "stdout",
          "text": [
            "--- Boolean Condition ---\n",
            "0     True\n",
            "1     True\n",
            "2    False\n",
            "Name: Year, dtype: bool\n",
            "\n",
            "--- Filtered DataFrame ---\n",
            "          Title           Director  Year\n",
            "0  Interstellar  Christopher Nolan  2014\n",
            "1      Superman         James Gunn  2025\n"
          ]
        }
      ]
    },
    {
      "cell_type": "code",
      "source": [
        "complex_condition=(my_favorites_df['Director']== 'Christopher Nolan') & (my_favorites_df['Year']>2010)\n",
        "print(\"\\n--- Complex Filtering ---\")\n",
        "print(my_favorites_df[complex_condition])"
      ],
      "metadata": {
        "colab": {
          "base_uri": "https://localhost:8080/"
        },
        "id": "BFjQp-xsiVj9",
        "outputId": "38432936-1f90-45cb-94c5-d48a4c4380d4"
      },
      "execution_count": null,
      "outputs": [
        {
          "output_type": "stream",
          "name": "stdout",
          "text": [
            "\n",
            "--- Complex Filtering ---\n",
            "          Title           Director  Year\n",
            "0  Interstellar  Christopher Nolan  2014\n"
          ]
        }
      ]
    },
    {
      "cell_type": "code",
      "source": [
        "nolan=my_favorites_df['Director']== 'Christopher Nolan'\n",
        "nolan_movies=my_favorites_df[nolan]\n",
        "print(nolan_movies)"
      ],
      "metadata": {
        "colab": {
          "base_uri": "https://localhost:8080/"
        },
        "id": "mGf1TomxjX2k",
        "outputId": "82bb8ee5-b15c-44d1-b32d-cf7175431d88"
      },
      "execution_count": null,
      "outputs": [
        {
          "output_type": "stream",
          "name": "stdout",
          "text": [
            "          Title           Director  Year\n",
            "0  Interstellar  Christopher Nolan  2014\n"
          ]
        }
      ]
    },
    {
      "cell_type": "markdown",
      "source": [
        "### Part D: Handling Missing Data"
      ],
      "metadata": {
        "id": "njzPqv1BlCKu"
      }
    },
    {
      "cell_type": "code",
      "source": [
        "import pandas as pd\n",
        "import numpy as np\n",
        "data={\n",
        "    'Name':['Alice','Bob','Charlie','David'],\n",
        "    'Age':[25,np.nan,28,34],\n",
        "    'City':['New York','Los Angeles',np.nan,'Chicago']\n",
        "}\n",
        "df_missing=pd.DataFrame(data)\n",
        "print(\"\\n--- DataFrame with Missing Data ---\")\n",
        "print(df_missing)"
      ],
      "metadata": {
        "colab": {
          "base_uri": "https://localhost:8080/"
        },
        "id": "aQJ9GlVjkQnR",
        "outputId": "8914924a-3d3e-4089-a24c-03b5be1ae46f"
      },
      "execution_count": null,
      "outputs": [
        {
          "output_type": "stream",
          "name": "stdout",
          "text": [
            "\n",
            "--- DataFrame with Missing Data ---\n",
            "      Name   Age         City\n",
            "0    Alice  25.0     New York\n",
            "1      Bob   NaN  Los Angeles\n",
            "2  Charlie  28.0          NaN\n",
            "3    David  34.0      Chicago\n"
          ]
        }
      ]
    },
    {
      "cell_type": "code",
      "source": [
        "print(\"\\n--- After using dropna() ---\")\n",
        "print(df_missing.dropna())\n",
        "print(\"\\n--- After using fillna() ---\")\n",
        "filled_df=df_missing.fillna(\n",
        "    {\n",
        "        'Age':0,\n",
        "        'City':'Unknown'\n",
        "    }\n",
        ")\n",
        "print(filled_df)"
      ],
      "metadata": {
        "colab": {
          "base_uri": "https://localhost:8080/"
        },
        "id": "JxdQul37mN3R",
        "outputId": "e128b98b-52d5-44f0-e130-79d1ab672818"
      },
      "execution_count": null,
      "outputs": [
        {
          "output_type": "stream",
          "name": "stdout",
          "text": [
            "\n",
            "--- After using dropna() ---\n",
            "    Name   Age      City\n",
            "0  Alice  25.0  New York\n",
            "3  David  34.0   Chicago\n",
            "\n",
            "--- After using fillna() ---\n",
            "      Name   Age         City\n",
            "0    Alice  25.0     New York\n",
            "1      Bob   0.0  Los Angeles\n",
            "2  Charlie  28.0      Unknown\n",
            "3    David  34.0      Chicago\n"
          ]
        }
      ]
    },
    {
      "cell_type": "code",
      "source": [
        "import pandas as pd\n",
        "import numpy as np\n",
        "data={\n",
        "    'Name':['Felix','McLauglin','Mark',np.nan],\n",
        "    'Age':[np.nan,35,36,33],\n",
        "    'YT':['Pewdiepie','Jacksepticeye','Markiplier','DanTDM']\n",
        "}\n",
        "pddata=pd.DataFrame(data)\n",
        "print(\"\\n--- Unfilled Data ---\")\n",
        "print(pddata)\n",
        "mean_age=pddata['Age'].mean() #mmmmmmmmeeeeeeeeeeeaaaaaaaannnnnnnnnnnn\n",
        "filldata=pddata.fillna(\n",
        "    {\n",
        "        'Name':'Unknown',\n",
        "        'Age':mean_age\n",
        "    }\n",
        ")\n",
        "print(\"\\n--- Filled Data ---\")\n",
        "print(filldata)"
      ],
      "metadata": {
        "colab": {
          "base_uri": "https://localhost:8080/"
        },
        "id": "qumIwhHdvsQq",
        "outputId": "9de1ad51-c90c-4c9a-b004-a1d8fd89a427"
      },
      "execution_count": null,
      "outputs": [
        {
          "output_type": "stream",
          "name": "stdout",
          "text": [
            "\n",
            "--- Unfilled Data ---\n",
            "        Name   Age             YT\n",
            "0      Felix   NaN      Pewdiepie\n",
            "1  McLauglin  35.0  Jacksepticeye\n",
            "2       Mark  36.0     Markiplier\n",
            "3        NaN  33.0         DanTDM\n",
            "\n",
            "--- Filled Data ---\n",
            "        Name        Age             YT\n",
            "0      Felix  34.666667      Pewdiepie\n",
            "1  McLauglin  35.000000  Jacksepticeye\n",
            "2       Mark  36.000000     Markiplier\n",
            "3    Unknown  33.000000         DanTDM\n"
          ]
        }
      ]
    },
    {
      "cell_type": "markdown",
      "source": [
        "## **Lesson 7: Introduction to Data Visualization with Matplotlib** 📊"
      ],
      "metadata": {
        "id": "zw8KT7MG0M5t"
      }
    },
    {
      "cell_type": "code",
      "source": [
        "import matplotlib.pyplot as plt\n",
        "x_values=[0,1,2,3,4]\n",
        "y_values=[0,1,4,9,16]\n",
        "plt.plot(x_values,y_values)\n",
        "plt.xlabel(\"My X-axis Label\")\n",
        "plt.ylabel(\"My Y-axis Label\")\n",
        "plt.title(\"My First Plot\")\n",
        "plt.show()"
      ],
      "metadata": {
        "colab": {
          "base_uri": "https://localhost:8080/",
          "height": 472
        },
        "id": "EKDmWIgzy3hG",
        "outputId": "2c42e6f2-3ee4-4e87-d9e3-495f90b93675"
      },
      "execution_count": null,
      "outputs": [
        {
          "output_type": "display_data",
          "data": {
            "text/plain": [
              "<Figure size 640x480 with 1 Axes>"
            ],
            "image/png": "[encoded data removed]"
          },
          "metadata": {}
        }
      ]
    },
    {
      "cell_type": "code",
      "source": [
        "import pandas as pd\n",
        "import matplotlib.pyplot as plt\n",
        "fav_movies={\n",
        "    'Title':['Interstellar','Superman','Matrix'],\n",
        "    'Director':['Nolan','James Gunn','Lana wachowski'],\n",
        "    'Year':[2014,2025,1999]\n",
        "}\n",
        "my_favorites_df=pd.DataFrame(fav_movies)\n",
        "my_favorites_df.plot(kind='bar',x='Title',y='Year',title='Release Year of Fav Movies')\n",
        "plt.ylabel(\"Year of Release\")\n",
        "plt.ylim(1900,2030)\n",
        "plt.show()"
      ],
      "metadata": {
        "colab": {
          "base_uri": "https://localhost:8080/",
          "height": 533
        },
        "id": "QLk5U73W2Tuc",
        "outputId": "bfa1f599-bf8c-4a57-e77d-31ca4b0aa154"
      },
      "execution_count": null,
      "outputs": [
        {
          "output_type": "display_data",
          "data": {
            "text/plain": [
              "<Figure size 640x480 with 1 Axes>"
            ],
            "image/png": "[encoded data removed]"
          },
          "metadata": {}
        }
      ]
    },
    {
      "cell_type": "code",
      "source": [
        "import matplotlib.pyplot as plt\n",
        "months=[1,2,3,4,5,6]\n",
        "sales=[500,480,600,750,900,850]\n",
        "plt.plot(months,sales) #u need some bars? then change this shit to plt.bar(months,sales)\n",
        "plt.xlabel(\"Months\")\n",
        "plt.ylabel(\"Sales based on months\")\n",
        "plt.show()"
      ],
      "metadata": {
        "colab": {
          "base_uri": "https://localhost:8080/",
          "height": 449
        },
        "id": "mzLm0KOzBm-6",
        "outputId": "99199d32-48aa-43c5-e35b-d7a730ae3ee6"
      },
      "execution_count": null,
      "outputs": [
        {
          "output_type": "display_data",
          "data": {
            "text/plain": [
              "<Figure size 640x480 with 1 Axes>"
            ],
            "image/png": "[encoded data removed]"
          },
          "metadata": {}
        }
      ]
    },
    {
      "cell_type": "markdown",
      "source": [
        "### Part B: Common Plot Types"
      ],
      "metadata": {
        "id": "umNLnXnwFCSb"
      }
    },
    {
      "cell_type": "code",
      "source": [
        "import numpy as np\n",
        "import matplotlib.pyplot as plt\n",
        "\n",
        "products=['A','B','C']\n",
        "sale_numbers=[150,240,190]\n",
        "plt.bar(products,sale_numbers)\n",
        "plt.title(\"Product Sales Comparison\")\n",
        "plt.show()\n"
      ],
      "metadata": {
        "colab": {
          "base_uri": "https://localhost:8080/",
          "height": 452
        },
        "id": "s_r95v_ZDaCG",
        "outputId": "a9bc5a9e-a0af-4892-a627-d0af54e0c054"
      },
      "execution_count": null,
      "outputs": [
        {
          "output_type": "display_data",
          "data": {
            "text/plain": [
              "<Figure size 640x480 with 1 Axes>"
            ],
            "image/png": "[encoded data removed]"
          },
          "metadata": {}
        }
      ]
    },
    {
      "cell_type": "code",
      "source": [
        "ages=np.random.normal(35,10,200) # (mean, std_dev, num_points)\n",
        "plt.hist(ages,bins=10) # bins = number of bars\n",
        "plt.title(\"Age Distribution of Customers\")\n",
        "plt.show()\n",
        "#x axis = bins, here 10 bins representing ages ranges (maybe 10-15, 15-20..and so on(the range is determined by matpltlib))\n",
        "#y axis = frequency"
      ],
      "metadata": {
        "colab": {
          "base_uri": "https://localhost:8080/",
          "height": 452
        },
        "id": "Z-_tUtW8G_w7",
        "outputId": "1aeedf1c-a432-47d9-8c2c-5bd4ea5c5f14"
      },
      "execution_count": null,
      "outputs": [
        {
          "output_type": "display_data",
          "data": {
            "text/plain": [
              "<Figure size 640x480 with 1 Axes>"
            ],
            "image/png": "[encoded data removed]"
          },
          "metadata": {}
        }
      ]
    },
    {
      "cell_type": "code",
      "source": [
        "temperature= [20,22,25,30,32,35,38]\n",
        "ice_cream_sales= [10,12,15,25,30,38,45]\n",
        "plt.scatter(temperature,ice_cream_sales)\n",
        "plt.title(\"Temperature vs Ice Cream Sales\")\n",
        "plt.xlabel(\"Temperature(C)\")\n",
        "plt.ylabel(\"Ice Cream Sales\")\n",
        "plt.show()"
      ],
      "metadata": {
        "colab": {
          "base_uri": "https://localhost:8080/",
          "height": 472
        },
        "id": "Aaxc08sKHgTd",
        "outputId": "52a364e9-1d54-4a38-e630-e4ae04e24e2d"
      },
      "execution_count": null,
      "outputs": [
        {
          "output_type": "display_data",
          "data": {
            "text/plain": [
              "<Figure size 640x480 with 1 Axes>"
            ],
            "image/png": "[encoded data removed]"
          },
          "metadata": {}
        }
      ]
    },
    {
      "cell_type": "code",
      "source": [
        "fruit=['Apple','Banana','Cherry','Dragonfruit']\n",
        "sales=[40,100,35,60]\n",
        "plt.bar(fruit,sales)\n",
        "plt.title(\"Fruit Sales\")\n",
        "plt.ylabel(\"Sales of each fruit\")"
      ],
      "metadata": {
        "colab": {
          "base_uri": "https://localhost:8080/",
          "height": 469
        },
        "id": "EYLZlW-OJmrM",
        "outputId": "8f46b4ee-6053-49c7-8f35-91bc5e405b0c"
      },
      "execution_count": null,
      "outputs": [
        {
          "output_type": "execute_result",
          "data": {
            "text/plain": [
              "Text(0, 0.5, 'Sales of each fruit')"
            ]
          },
          "metadata": {},
          "execution_count": 64
        },
        {
          "output_type": "display_data",
          "data": {
            "text/plain": [
              "<Figure size 640x480 with 1 Axes>"
            ],
            "image/png": "[encoded data removed]"
          },
          "metadata": {}
        }
      ]
    },
    {
      "cell_type": "markdown",
      "source": [
        "## **Practice Problem 1 : IPL Match Analysis 🏏**"
      ],
      "metadata": {
        "id": "_nepZ6IlzrpP"
      }
    },
    {
      "cell_type": "markdown",
      "source": [
        "### Project: Indian Premier League (IPL) Match Analysis 🏏\n",
        "This project is designed to mirror what a data analyst does in a real job. We will take a dataset of IPL match results and find interesting insights.\n",
        "\n",
        "Project Goal:\n",
        "Analyze the history of IPL matches to determine which teams have been the most successful and whether winning the toss provides a significant advantage in winning the match.\n",
        "\n",
        "Skills We Will Use:\n",
        "\n",
        "    -Pandas: To load, clean, and filter the data.\n",
        "\n",
        "    -Matplotlib: To create visualizations that communicate our findings.\n",
        "\n",
        "    -Critical Thinking: To ask questions of the data and interpret the results.\n",
        "\n",
        "Project Steps:\n",
        "\n",
        "1. Acquire the Data: Load the IPL match dataset into a Pandas DataFrame.\n",
        "\n",
        "2. Clean and Explore: Check for missing values and understand the different columns.\n",
        "\n",
        "3. Analyze and Visualize:\n",
        "\n",
        "    Calculate the number of matches won by each team.\n",
        "\n",
        "    Analyze the relationship between winning the toss and winning the match.\n",
        "\n",
        "    Create plots to visualize these findings.\n",
        "\n",
        "4. Draw Conclusions: Summarize what we have learned from the analysis."
      ],
      "metadata": {
        "id": "ZcdfZhU1gUkC"
      }
    },
    {
      "cell_type": "markdown",
      "source": [
        "### Step 1: Acquire and Explore the Data"
      ],
      "metadata": {
        "id": "n8IVP9fP3Gxe"
      }
    },
    {
      "cell_type": "code",
      "source": [
        "import pandas as pd\n",
        "import io\n",
        "csv_data = \"\"\"id,season,city,date,team1,team2,toss_winner,toss_decision,result,dl_applied,winner,win_by_runs,win_by_wickets,player_of_match,venue,umpire1,umpire2,umpire3\n",
        "1,2017,Hyderabad,2017-04-05,Sunrisers Hyderabad,Royal Challengers Bangalore,Royal Challengers Bangalore,field,normal,0,Sunrisers Hyderabad,35,0,Yuvraj Singh,\"Rajiv Gandhi International Stadium, Uppal\",AY Dandekar,NJ Llong,\n",
        "2,2017,Pune,2017-04-06,Mumbai Indians,Rising Pune Supergiant,Rising Pune Supergiant,field,normal,0,Rising Pune Supergiant,0,7,SPD Smith,Maharashtra Cricket Association Stadium,A Nand Kishore,S Ravi,\n",
        "3,2017,Rajkot,2017-04-07,Gujarat Lions,Kolkata Knight Riders,Kolkata Knight Riders,field,normal,0,Kolkata Knight Riders,0,10,CA Lynn,Saurashtra Cricket Association Stadium,Nitin Menon,CK Nandan,\n",
        "4,2017,Indore,2017-04-08,Rising Pune Supergiant,Kings XI Punjab,Kings XI Punjab,field,normal,0,Kings XI Punjab,0,6,GJ Maxwell,Holkar Cricket Stadium,AK Chaudhary,C Shamshuddin,\n",
        "5,2017,Bangalore,2017-04-08,Royal Challengers Bangalore,Delhi Daredevils,Royal Challengers Bangalore,bat,normal,0,Royal Challengers Bangalore,15,0,KM Jadhav,M Chinnaswamy Stadium,,,\n",
        "6,2017,Hyderabad,2017-04-09,Gujarat Lions,Sunrisers Hyderabad,Sunrisers Hyderabad,field,normal,0,Sunrisers Hyderabad,0,9,Rashid Khan,\"Rajiv Gandhi International Stadium, Uppal\",A Deshmukh,NJ Llong,\n",
        "7,2017,Mumbai,2017-04-09,Kolkata Knight Riders,Mumbai Indians,Mumbai Indians,field,normal,0,Mumbai Indians,0,4,N Rana,Wankhede Stadium,Nitin Menon,CK Nandan,\n",
        "8,2017,Indore,2017-04-10,Royal Challengers Bangalore,Kings XI Punjab,Royal Challengers Bangalore,bat,normal,0,Kings XI Punjab,0,8,AR Patel,Holkar Cricket Stadium,AK Chaudhary,C Shamshuddin,\n",
        "9,2017,Pune,2017-04-11,Delhi Daredevils,Rising Pune Supergiant,Rising Pune Supergiant,field,normal,0,Delhi Daredevils,97,0,SV Samson,Maharashtra Cricket Association Stadium,AY Dandekar,S Ravi,\n",
        "10,2017,Mumbai,2017-04-12,Sunrisers Hyderabad,Mumbai Indians,Mumbai Indians,field,normal,0,Mumbai Indians,0,4,JJ Bumrah,Wankhede Stadium,Nitin Menon,CK Nandan,\n",
        "\"\"\"\n",
        "\n",
        "ipl_df=pd.read_csv(io.StringIO(csv_data))\n",
        "print(ipl_df.head())\n",
        "print(\"\\n--- DataFrame info ---\")\n",
        "ipl_df.info()\n",
        "print(f\"Dataset Dimensions: {ipl_df.shape}\")"
      ],
      "metadata": {
        "colab": {
          "base_uri": "https://localhost:8080/"
        },
        "id": "3ox2wJbp0BeN",
        "outputId": "39357573-7d3b-4413-e816-4b01c70719f9"
      },
      "execution_count": 7,
      "outputs": [
        {
          "output_type": "stream",
          "name": "stdout",
          "text": [
            "   id  season       city        date                        team1  \\\n",
            "0   1    2017  Hyderabad  2017-04-05          Sunrisers Hyderabad   \n",
            "1   2    2017       Pune  2017-04-06               Mumbai Indians   \n",
            "2   3    2017     Rajkot  2017-04-07                Gujarat Lions   \n",
            "3   4    2017     Indore  2017-04-08       Rising Pune Supergiant   \n",
            "4   5    2017  Bangalore  2017-04-08  Royal Challengers Bangalore   \n",
            "\n",
            "                         team2                  toss_winner toss_decision  \\\n",
            "0  Royal Challengers Bangalore  Royal Challengers Bangalore         field   \n",
            "1       Rising Pune Supergiant       Rising Pune Supergiant         field   \n",
            "2        Kolkata Knight Riders        Kolkata Knight Riders         field   \n",
            "3              Kings XI Punjab              Kings XI Punjab         field   \n",
            "4             Delhi Daredevils  Royal Challengers Bangalore           bat   \n",
            "\n",
            "   result  dl_applied                       winner  win_by_runs  \\\n",
            "0  normal           0          Sunrisers Hyderabad           35   \n",
            "1  normal           0       Rising Pune Supergiant            0   \n",
            "2  normal           0        Kolkata Knight Riders            0   \n",
            "3  normal           0              Kings XI Punjab            0   \n",
            "4  normal           0  Royal Challengers Bangalore           15   \n",
            "\n",
            "   win_by_wickets player_of_match                                      venue  \\\n",
            "0               0    Yuvraj Singh  Rajiv Gandhi International Stadium, Uppal   \n",
            "1               7       SPD Smith    Maharashtra Cricket Association Stadium   \n",
            "2              10         CA Lynn     Saurashtra Cricket Association Stadium   \n",
            "3               6      GJ Maxwell                     Holkar Cricket Stadium   \n",
            "4               0       KM Jadhav                      M Chinnaswamy Stadium   \n",
            "\n",
            "          umpire1        umpire2  umpire3  \n",
            "0     AY Dandekar       NJ Llong      NaN  \n",
            "1  A Nand Kishore         S Ravi      NaN  \n",
            "2     Nitin Menon      CK Nandan      NaN  \n",
            "3    AK Chaudhary  C Shamshuddin      NaN  \n",
            "4             NaN            NaN      NaN  \n",
            "\n",
            "--- DataFrame info ---\n",
            "<class 'pandas.core.frame.DataFrame'>\n",
            "RangeIndex: 10 entries, 0 to 9\n",
            "Data columns (total 18 columns):\n",
            " #   Column           Non-Null Count  Dtype  \n",
            "---  ------           --------------  -----  \n",
            " 0   id               10 non-null     int64  \n",
            " 1   season           10 non-null     int64  \n",
            " 2   city             10 non-null     object \n",
            " 3   date             10 non-null     object \n",
            " 4   team1            10 non-null     object \n",
            " 5   team2            10 non-null     object \n",
            " 6   toss_winner      10 non-null     object \n",
            " 7   toss_decision    10 non-null     object \n",
            " 8   result           10 non-null     object \n",
            " 9   dl_applied       10 non-null     int64  \n",
            " 10  winner           10 non-null     object \n",
            " 11  win_by_runs      10 non-null     int64  \n",
            " 12  win_by_wickets   10 non-null     int64  \n",
            " 13  player_of_match  10 non-null     object \n",
            " 14  venue            10 non-null     object \n",
            " 15  umpire1          9 non-null      object \n",
            " 16  umpire2          9 non-null      object \n",
            " 17  umpire3          0 non-null      float64\n",
            "dtypes: float64(1), int64(5), object(12)\n",
            "memory usage: 1.5+ KB\n",
            "Dataset Dimensions: (10, 18)\n"
          ]
        }
      ]
    },
    {
      "cell_type": "markdown",
      "source": [
        "### Step 2: Data Cleaning and Exploration"
      ],
      "metadata": {
        "id": "ZUXC5Y7V3L9M"
      }
    },
    {
      "cell_type": "code",
      "source": [
        "print(ipl_df.isnull().sum())"
      ],
      "metadata": {
        "colab": {
          "base_uri": "https://localhost:8080/"
        },
        "id": "qIl4H39j1Ngi",
        "outputId": "9f4d4aea-9c7a-41d7-89f5-9f94795dbb5c"
      },
      "execution_count": null,
      "outputs": [
        {
          "output_type": "stream",
          "name": "stdout",
          "text": [
            "id                  0\n",
            "season              0\n",
            "city                0\n",
            "date                0\n",
            "team1               0\n",
            "team2               0\n",
            "toss_winner         0\n",
            "toss_decision       0\n",
            "result              0\n",
            "dl_applied          0\n",
            "winner              0\n",
            "win_by_runs         0\n",
            "win_by_wickets      0\n",
            "player_of_match     0\n",
            "venue               0\n",
            "umpire1             1\n",
            "umpire2             1\n",
            "umpire3            10\n",
            "dtype: int64\n"
          ]
        }
      ]
    },
    {
      "cell_type": "code",
      "source": [
        "ipl_df.drop(columns=['umpire1','umpire2','umpire3'], inplace=True) #This argument modifies the DataFrame directly\n",
        "print(\"\\n--- DataFrame info after dropping columns ---\")\n",
        "ipl_df.info()"
      ],
      "metadata": {
        "colab": {
          "base_uri": "https://localhost:8080/"
        },
        "id": "8tQhYwVs3c7G",
        "outputId": "3a05827a-db8d-4980-d7db-68898463c0ab"
      },
      "execution_count": null,
      "outputs": [
        {
          "output_type": "stream",
          "name": "stdout",
          "text": [
            "\n",
            "--- DataFrame info after dropping columns ---\n",
            "<class 'pandas.core.frame.DataFrame'>\n",
            "RangeIndex: 10 entries, 0 to 9\n",
            "Data columns (total 15 columns):\n",
            " #   Column           Non-Null Count  Dtype \n",
            "---  ------           --------------  ----- \n",
            " 0   id               10 non-null     int64 \n",
            " 1   season           10 non-null     int64 \n",
            " 2   city             10 non-null     object\n",
            " 3   date             10 non-null     object\n",
            " 4   team1            10 non-null     object\n",
            " 5   team2            10 non-null     object\n",
            " 6   toss_winner      10 non-null     object\n",
            " 7   toss_decision    10 non-null     object\n",
            " 8   result           10 non-null     object\n",
            " 9   dl_applied       10 non-null     int64 \n",
            " 10  winner           10 non-null     object\n",
            " 11  win_by_runs      10 non-null     int64 \n",
            " 12  win_by_wickets   10 non-null     int64 \n",
            " 13  player_of_match  10 non-null     object\n",
            " 14  venue            10 non-null     object\n",
            "dtypes: int64(5), object(10)\n",
            "memory usage: 1.3+ KB\n"
          ]
        }
      ]
    },
    {
      "cell_type": "markdown",
      "source": [
        "### Step 3: Analysis and Visualization"
      ],
      "metadata": {
        "id": "ltEiqdeQyTky"
      }
    },
    {
      "cell_type": "code",
      "source": [
        "import pandas as pd\n",
        "import io\n",
        "import matplotlib.pyplot as plt\n",
        "\n",
        "# Step 1: Load the Data\n",
        "csv_data = \"\"\"id,season,city,date,team1,team2,toss_winner,toss_decision,result,dl_applied,winner,win_by_runs,win_by_wickets,player_of_match,venue,umpire1,umpire2,umpire3\n",
        "1,2017,Hyderabad,2017-04-05,Sunrisers Hyderabad,Royal Challengers Bangalore,Royal Challengers Bangalore,field,normal,0,Sunrisers Hyderabad,35,0,Yuvraj Singh,\"Rajiv Gandhi International Stadium, Uppal\",AY Dandekar,NJ Llong,\n",
        "2,2017,Pune,2017-04-06,Mumbai Indians,Rising Pune Supergiant,Rising Pune Supergiant,field,normal,0,Rising Pune Supergiant,0,7,SPD Smith,Maharashtra Cricket Association Stadium,A Nand Kishore,S Ravi,\n",
        "3,2017,Rajkot,2017-04-07,Gujarat Lions,Kolkata Knight Riders,Kolkata Knight Riders,field,normal,0,Kolkata Knight Riders,0,10,CA Lynn,Saurashtra Cricket Association Stadium,Nitin Menon,CK Nandan,\n",
        "4,2017,Indore,2017-04-08,Rising Pune Supergiant,Kings XI Punjab,Kings XI Punjab,field,normal,0,Kings XI Punjab,0,6,GJ Maxwell,Holkar Cricket Stadium,AK Chaudhary,C Shamshuddin,\n",
        "5,2017,Bangalore,2017-04-08,Royal Challengers Bangalore,Delhi Daredevils,Royal Challengers Bangalore,bat,normal,0,Royal Challengers Bangalore,15,0,KM Jadhav,M Chinnaswamy Stadium,,,\n",
        "6,2017,Hyderabad,2017-04-09,Gujarat Lions,Sunrisers Hyderabad,Sunrisers Hyderabad,field,normal,0,Sunrisers Hyderabad,0,9,Rashid Khan,\"Rajiv Gandhi International Stadium, Uppal\",A Deshmukh,NJ Llong,\n",
        "7,2017,Mumbai,2017-04-09,Kolkata Knight Riders,Mumbai Indians,Mumbai Indians,field,normal,0,Mumbai Indians,0,4,N Rana,Wankhede Stadium,Nitin Menon,CK Nandan,\n",
        "8,2017,Indore,2017-04-10,Royal Challengers Bangalore,Kings XI Punjab,Royal Challengers Bangalore,bat,normal,0,Kings XI Punjab,0,8,AR Patel,Holkar Cricket Stadium,AK Chaudhary,C Shamshuddin,\n",
        "9,2017,Pune,2017-04-11,Delhi Daredevils,Rising Pune Supergiant,Rising Pune Supergiant,field,normal,0,Delhi Daredevils,97,0,SV Samson,Maharashtra Cricket Association Stadium,AY Dandekar,S Ravi,\n",
        "10,2017,Mumbai,2017-04-12,Sunrisers Hyderabad,Mumbai Indians,Mumbai Indians,field,normal,0,Mumbai Indians,0,4,JJ Bumrah,Wankhede Stadium,Nitin Menon,CK Nandan,\n",
        "\"\"\"\n",
        "ipl_df = pd.read_csv(io.StringIO(csv_data))\n",
        "\n",
        "# Step 2: Clean the Data\n",
        "ipl_df.drop(columns=['umpire1', 'umpire2', 'umpire3'], inplace=True)\n",
        "\n",
        "# Step 3: Analyze and Visualize\n",
        "win_counts = ipl_df['winner'].value_counts()\n",
        "\n",
        "print(\"--- Matches Won by Each Team ---\")\n",
        "print(win_counts)\n",
        "\n",
        "plt.figure(figsize=(12, 6))\n",
        "win_counts.plot(kind='bar')\n",
        "plt.title('Number of IPL Matches Won by Each Team')\n",
        "plt.xlabel('Team')\n",
        "plt.ylabel('Number of Wins')\n",
        "plt.xticks(rotation=90)\n",
        "plt.show()"
      ],
      "metadata": {
        "id": "W2h2vCh54nuL",
        "colab": {
          "base_uri": "https://localhost:8080/",
          "height": 658
        },
        "outputId": "cbfdd3fd-6fc9-49c9-f35a-a94b2f768e30"
      },
      "execution_count": 2,
      "outputs": [
        {
          "output_type": "stream",
          "name": "stdout",
          "text": [
            "--- Matches Won by Each Team ---\n",
            "winner\n",
            "Sunrisers Hyderabad            2\n",
            "Mumbai Indians                 2\n",
            "Kings XI Punjab                2\n",
            "Kolkata Knight Riders          1\n",
            "Rising Pune Supergiant         1\n",
            "Royal Challengers Bangalore    1\n",
            "Delhi Daredevils               1\n",
            "Name: count, dtype: int64\n"
          ]
        },
        {
          "output_type": "display_data",
          "data": {
            "text/plain": [
              "<Figure size 1200x600 with 1 Axes>"
            ],
            "image/png": "[encoded data removed]"
          },
          "metadata": {}
        }
      ]
    },
    {
      "cell_type": "code",
      "source": [
        "import pandas as pd\n",
        "import io\n",
        "import matplotlib.pyplot as plt\n",
        "\n",
        "# Step 1: Load the Data\n",
        "csv_data = \"\"\"id,season,city,date,team1,team2,toss_winner,toss_decision,result,dl_applied,winner,win_by_runs,win_by_wickets,player_of_match,venue,umpire1,umpire2,umpire3\n",
        "1,2017,Hyderabad,2017-04-05,Sunrisers Hyderabad,Royal Challengers Bangalore,Royal Challengers Bangalore,field,normal,0,Sunrisers Hyderabad,35,0,Yuvraj Singh,\"Rajiv Gandhi International Stadium, Uppal\",AY Dandekar,NJ Llong,\n",
        "2,2017,Pune,2017-04-06,Mumbai Indians,Rising Pune Supergiant,Rising Pune Supergiant,field,normal,0,Rising Pune Supergiant,0,7,SPD Smith,Maharashtra Cricket Association Stadium,A Nand Kishore,S Ravi,\n",
        "3,2017,Rajkot,2017-04-07,Gujarat Lions,Kolkata Knight Riders,Kolkata Knight Riders,field,normal,0,Kolkata Knight Riders,0,10,CA Lynn,Saurashtra Cricket Association Stadium,Nitin Menon,CK Nandan,\n",
        "4,2017,Indore,2017-04-08,Rising Pune Supergiant,Kings XI Punjab,Kings XI Punjab,field,normal,0,Kings XI Punjab,0,6,GJ Maxwell,Holkar Cricket Stadium,AK Chaudhary,C Shamshuddin,\n",
        "5,2017,Bangalore,2017-04-08,Royal Challengers Bangalore,Delhi Daredevils,Royal Challengers Bangalore,bat,normal,0,Royal Challengers Bangalore,15,0,KM Jadhav,M Chinnaswamy Stadium,,,\n",
        "6,2017,Hyderabad,2017-04-09,Gujarat Lions,Sunrisers Hyderabad,Sunrisers Hyderabad,field,normal,0,Sunrisers Hyderabad,0,9,Rashid Khan,\"Rajiv Gandhi International Stadium, Uppal\",A Deshmukh,NJ Llong,\n",
        "7,2017,Mumbai,2017-04-09,Kolkata Knight Riders,Mumbai Indians,Mumbai Indians,field,normal,0,Mumbai Indians,0,4,N Rana,Wankhede Stadium,Nitin Menon,CK Nandan,\n",
        "8,2017,Indore,2017-04-10,Royal Challengers Bangalore,Kings XI Punjab,Royal Challengers Bangalore,bat,normal,0,Kings XI Punjab,0,8,AR Patel,Holkar Cricket Stadium,AK Chaudhary,C Shamshuddin,\n",
        "9,2017,Pune,2017-04-11,Delhi Daredevils,Rising Pune Supergiant,Rising Pune Supergiant,field,normal,0,Delhi Daredevils,97,0,SV Samson,Maharashtra Cricket Association Stadium,AY Dandekar,S Ravi,\n",
        "10,2017,Mumbai,2017-04-12,Sunrisers Hyderabad,Mumbai Indians,Mumbai Indians,field,normal,0,Mumbai Indians,0,4,JJ Bumrah,Wankhede Stadium,Nitin Menon,CK Nandan,\n",
        "\"\"\"\n",
        "ipl_df = pd.read_csv(io.StringIO(csv_data))\n",
        "\n",
        "# Step 2: Clean the Data\n",
        "ipl_df.drop(columns=['umpire1', 'umpire2', 'umpire3'], inplace=True)\n",
        "\n",
        "# Step 3.2: Analyze Toss Advantage\n",
        "# Create a new column that is True if the toss winner was also the match winner\n",
        "ipl_df['toss_winner_is_winner'] = ipl_df['toss_winner'] == ipl_df['winner']\n",
        "\n",
        "# Count the True/False values\n",
        "toss_advantage_counts = ipl_df['toss_winner_is_winner'].value_counts()\n",
        "print(toss_advantage_counts)\n",
        "\n",
        "# Create a pie chart to visualize the proportion\n",
        "plt.figure(figsize=(6, 6))\n",
        "toss_advantage_counts.plot(kind='pie', autopct='%.1f%%', startangle=90,\n",
        "                           labels=['Toss Winner Wins', 'Toss Winner Loses']) # .1 is one decimal point and f is floating point\n",
        "plt.title('Toss Advantage Analysis')\n",
        "plt.ylabel('') # Hide the y-axis label for a cleaner look\n",
        "plt.show()"
      ],
      "metadata": {
        "colab": {
          "base_uri": "https://localhost:8080/",
          "height": 590
        },
        "id": "jlLt3mZj0VID",
        "outputId": "432d2cac-9a20-42e9-bfc2-8b11afe2d257"
      },
      "execution_count": 4,
      "outputs": [
        {
          "output_type": "stream",
          "name": "stdout",
          "text": [
            "toss_winner_is_winner\n",
            "True     7\n",
            "False    3\n",
            "Name: count, dtype: int64\n"
          ]
        },
        {
          "output_type": "display_data",
          "data": {
            "text/plain": [
              "<Figure size 600x600 with 1 Axes>"
            ],
            "image/png": "[encoded data removed]"
          },
          "metadata": {}
        }
      ]
    },
    {
      "cell_type": "markdown",
      "source": [
        "### Step 4: Draw Conclusions"
      ],
      "metadata": {
        "id": "QFuXY5FX2OHn"
      }
    },
    {
      "cell_type": "markdown",
      "source": [
        "Based on our project:\n",
        "\n",
        "1. Team Success: According to the bar chart of our limited dataset, the most successful teams are the ones with the tallest bars (e.g., Mumbai Indians, Sunrisers Hyderabad, etc.).\n",
        "\n",
        "2. Toss Advantage: According to the pie chart, the team that wins the toss also wins the match roughly 50-60% of the time. This suggests there is a slight advantage, but it's not overwhelmingly decisive."
      ],
      "metadata": {
        "id": "24P2frI12YYi"
      }
    },
    {
      "cell_type": "code",
      "source": [],
      "metadata": {
        "id": "WXwDvZ6ss7ev"
      },
      "execution_count": null,
      "outputs": []
    },
    {
      "cell_type": "markdown",
      "source": [],
      "metadata": {
        "id": "X-lMh5GM2f04"
      }
    },
    {
      "cell_type": "markdown",
      "source": [],
      "metadata": {
        "id": "ZfEEr0GW3H-K"
      }
    },
    {
      "cell_type": "markdown",
      "source": [
        "## **Practice Problem 2 : Video Game Sales Analysis 🎮**\n",
        "Goal: Analyze video game sales data to identify the best-selling genres and the publishers with the most releases."
      ],
      "metadata": {
        "id": "eIMTyZbL3KdZ"
      }
    },
    {
      "cell_type": "markdown",
      "source": [
        "1. Analysis: Which game Genre appears most frequently in this dataset? (Hint: Use .value_counts()).\n",
        "\n",
        "2. Visualization: Create a bar chart to visualize the number of releases for each genre. Make sure to add a title.\n",
        "\n",
        "3. Filtering & Analysis: Of the games in the 'Action' genre, which Publisher appears most often?\n"
      ],
      "metadata": {
        "id": "e75A6pk-34to"
      }
    },
    {
      "cell_type": "code",
      "source": [
        "import pandas as pd\n",
        "import matplotlib.pyplot as plt\n",
        "import io\n",
        "csv_data = \"\"\"Rank,Name,Platform,Year,Genre,Publisher,NA_Sales,EU_Sales,JP_Sales,Other_Sales,Global_Sales\n",
        "1,Wii Sports,Wii,2006,Sports,Nintendo,41.49,29.02,3.77,8.46,82.74\n",
        "2,Super Mario Bros.,NES,1985,Platform,Nintendo,29.08,3.58,6.81,0.77,40.24\n",
        "3,Mario Kart Wii,Wii,2008,Racing,Nintendo,15.85,12.88,3.79,3.31,35.82\n",
        "4,Wii Sports Resort,Wii,2009,Sports,Nintendo,15.75,11.01,3.28,2.96,33\n",
        "5,Pokemon Red/Pokemon Blue,GB,1996,Role-Playing,Nintendo,11.27,8.89,10.22,1,31.37\n",
        "6,Tetris,GB,1989,Puzzle,Nintendo,23.2,2.26,4.22,0.58,30.26\n",
        "7,New Super Mario Bros.,DS,2006,Platform,Nintendo,11.38,9.23,6.5,2.9,30.01\n",
        "8,Wii Play,Wii,2006,Misc,Nintendo,14.03,9.2,2.93,2.85,29.02\n",
        "9,New Super Mario Bros. Wii,Wii,2009,Platform,Nintendo,14.59,7.06,4.7,2.26,28.62\n",
        "10,Duck Hunt,NES,1984,Shooter,Nintendo,26.93,0.63,0.28,0.47,28.31\n",
        "11,Nintendogs,DS,2005,Simulation,Nintendo,9.07,11,1.93,2.75,24.76\n",
        "12,Mario Kart DS,DS,2005,Racing,Nintendo,9.81,7.57,4.13,1.92,23.42\n",
        "13,Pokemon Gold/Pokemon Silver,GB,2000,Role-Playing,Nintendo,9,6.18,7.2,0.71,23.1\n",
        "14,Wii Fit,Wii,2008,Sports,Nintendo,8.94,8.03,3.6,2.15,22.72\n",
        "15,Wii Fit Plus,Wii,2009,Sports,Nintendo,9.09,8.59,2.53,1.79,22\n",
        "16,Kinect Adventures!,X360,2010,Misc,Microsoft Game Studios,14.97,4.94,0.24,1.67,21.82\n",
        "17,Grand Theft Auto V,PS3,2013,Action,Take-Two Interactive,7.01,9.27,0.97,4.14,21.4\n",
        "18,Grand Theft Auto: San Andreas,PS2,2004,Action,Take-Two Interactive,9.43,0.4,0.41,10.57,20.81\n",
        "19,Super Mario World,SNES,1990,Platform,Nintendo,12.78,3.75,3.54,0.55,20.61\n",
        "20,Brain Age: Train Your Brain in Minutes a Day,DS,2006,Misc,Nintendo,4.75,9.26,4.16,2.05,20.22\n",
        "\"\"\"\n",
        "vgsales_df=pd.read_csv(io.StringIO(csv_data))\n",
        "print(vgsales_df.head(),\"\\n\")\n",
        "vgsales_df.info()\n",
        "genre_freq=vgsales_df['Genre'].value_counts()\n",
        "print(genre_freq)\n",
        "plt.figure(figsize=(12, 6))\n",
        "genre_freq.plot(kind='bar')\n",
        "plt.xticks(rotation=90)\n",
        "plt.ylabel('Frequency')\n",
        "plt.title('Popular Genres in Videogames')\n",
        "plt.show()\n",
        "action_filter=vgsales_df['Genre']=='Action'\n",
        "action_df=vgsales_df[action_filter]\n",
        "publisher_freq=action_df['Publisher'].value_counts()\n",
        "print(publisher_freq)"
      ],
      "metadata": {
        "colab": {
          "base_uri": "https://localhost:8080/",
          "height": 1000
        },
        "id": "kqcfna8B3Tgl",
        "outputId": "c9b61213-9ad3-461c-ca8d-1800a1eff968"
      },
      "execution_count": 13,
      "outputs": [
        {
          "output_type": "stream",
          "name": "stdout",
          "text": [
            "   Rank                      Name Platform  Year         Genre Publisher  \\\n",
            "0     1                Wii Sports      Wii  2006        Sports  Nintendo   \n",
            "1     2         Super Mario Bros.      NES  1985      Platform  Nintendo   \n",
            "2     3            Mario Kart Wii      Wii  2008        Racing  Nintendo   \n",
            "3     4         Wii Sports Resort      Wii  2009        Sports  Nintendo   \n",
            "4     5  Pokemon Red/Pokemon Blue       GB  1996  Role-Playing  Nintendo   \n",
            "\n",
            "   NA_Sales  EU_Sales  JP_Sales  Other_Sales  Global_Sales  \n",
            "0     41.49     29.02      3.77         8.46         82.74  \n",
            "1     29.08      3.58      6.81         0.77         40.24  \n",
            "2     15.85     12.88      3.79         3.31         35.82  \n",
            "3     15.75     11.01      3.28         2.96         33.00  \n",
            "4     11.27      8.89     10.22         1.00         31.37   \n",
            "\n",
            "<class 'pandas.core.frame.DataFrame'>\n",
            "RangeIndex: 20 entries, 0 to 19\n",
            "Data columns (total 11 columns):\n",
            " #   Column        Non-Null Count  Dtype  \n",
            "---  ------        --------------  -----  \n",
            " 0   Rank          20 non-null     int64  \n",
            " 1   Name          20 non-null     object \n",
            " 2   Platform      20 non-null     object \n",
            " 3   Year          20 non-null     int64  \n",
            " 4   Genre         20 non-null     object \n",
            " 5   Publisher     20 non-null     object \n",
            " 6   NA_Sales      20 non-null     float64\n",
            " 7   EU_Sales      20 non-null     float64\n",
            " 8   JP_Sales      20 non-null     float64\n",
            " 9   Other_Sales   20 non-null     float64\n",
            " 10  Global_Sales  20 non-null     float64\n",
            "dtypes: float64(5), int64(2), object(4)\n",
            "memory usage: 1.8+ KB\n",
            "Genre\n",
            "Sports          4\n",
            "Platform        4\n",
            "Misc            3\n",
            "Role-Playing    2\n",
            "Racing          2\n",
            "Action          2\n",
            "Puzzle          1\n",
            "Shooter         1\n",
            "Simulation      1\n",
            "Name: count, dtype: int64\n"
          ]
        },
        {
          "output_type": "display_data",
          "data": {
            "text/plain": [
              "<Figure size 1200x600 with 1 Axes>"
            ],
            "image/png": "[encoded data removed]"
          },
          "metadata": {}
        },
        {
          "output_type": "stream",
          "name": "stdout",
          "text": [
            "Publisher\n",
            "Take-Two Interactive    2\n",
            "Name: count, dtype: int64\n"
          ]
        }
      ]
    }
  ]
}