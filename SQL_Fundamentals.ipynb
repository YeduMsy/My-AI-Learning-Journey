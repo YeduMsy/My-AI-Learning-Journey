{
  "nbformat": 4,
  "nbformat_minor": 0,
  "metadata": {
    "colab": {
      "provenance": [],
      "collapsed_sections": [
        "W90gzUXJxID5",
        "Rrp6wP4yCc8w",
        "nK-VDJGWEWuM",
        "L6vJVqRzI_Ik",
        "rIDVk9PlQ2uU"
      ],
      "authorship_tag": "ABX9TyO17JcT7mPGd0P8qY+Npr2N"
    },
    "kernelspec": {
      "name": "python3",
      "display_name": "Python 3"
    },
    "language_info": {
      "name": "python"
    }
  },
  "cells": [
    {
      "cell_type": "markdown",
      "source": [
        "## **Lesson 11: Introduction to SQL 🗃️**"
      ],
      "metadata": {
        "id": "wg8q6Vx2xCX4"
      }
    },
    {
      "cell_type": "markdown",
      "source": [
        "### Part A: The *SELECT* and *FROM* Clauses"
      ],
      "metadata": {
        "id": "W90gzUXJxID5"
      }
    },
    {
      "cell_type": "markdown",
      "source": [
        "*SELECT* is the most important command in SQL. It is used to specify the columns you want to retrieve from a database table. You can select all columns using * or list specific column names separated by commas.\n",
        "\n",
        "The *FROM* clause is used to specify the table you want to retrieve the data from."
      ],
      "metadata": {
        "id": "iDV3v7cC4N6D"
      }
    },
    {
      "cell_type": "code",
      "execution_count": null,
      "metadata": {
        "colab": {
          "base_uri": "https://localhost:8080/"
        },
        "id": "l2kWeNNew4BU",
        "outputId": "2d2577fd-178e-45cc-e526-c32e51888577"
      },
      "outputs": [
        {
          "output_type": "stream",
          "name": "stdout",
          "text": [
            "--- Results of 'SELECT * FROM games;' ---\n",
            "   Rank                      Name Platform  Year         Genre\n",
            "0     1                Wii Sports      Wii  2006        Sports\n",
            "1     2          Super Mario Bros      NES  1985      Platform\n",
            "2     3            Mario Kart Wii      Wii  2008        Racing\n",
            "3     4         Wii Sports Resort      Wii  2009        Sports\n",
            "4     5  Pokemon Red/Pokemon Blue       GB  1996  Role-Playing\n"
          ]
        }
      ],
      "source": [
        "import pandas as pd\n",
        "import sqlite3\n",
        "data={\n",
        "    'Rank':[1,2,3,4,5],\n",
        "    'Name':['Wii Sports','Super Mario Bros','Mario Kart Wii','Wii Sports Resort','Pokemon Red/Pokemon Blue'],\n",
        "    'Platform':['Wii','NES','Wii','Wii','GB'],\n",
        "    'Year':[2006,1985,2008,2009,1996],\n",
        "    'Genre':['Sports','Platform','Racing','Sports','Role-Playing']\n",
        "}\n",
        "vgsales_df=pd.DataFrame(data)\n",
        "conn=sqlite3.connect(':memory:')\n",
        "vgsales_df.to_sql('games',conn,index=False)\n",
        "query=\"SELECT * FROM games;\"\n",
        "results_df=pd.read_sql_query(query,conn)\n",
        "print(\"--- Results of 'SELECT * FROM games;' ---\")\n",
        "print(results_df)\n",
        "conn.close()"
      ]
    },
    {
      "cell_type": "code",
      "source": [
        "conn=sqlite3.connect(':memory:')\n",
        "vgsales_df.to_sql('games',conn,index=False)\n",
        "query2=\"SELECT Year FROM games;\"\n",
        "results2_df=pd.read_sql_query(query2,conn)\n",
        "print(\"--- Results of 'SELECT Names FROM games;' ---\")\n",
        "print(results2_df)\n",
        "conn.close()"
      ],
      "metadata": {
        "colab": {
          "base_uri": "https://localhost:8080/"
        },
        "id": "_XWlxFCizv-j",
        "outputId": "735c451c-48df-4ff0-c4f3-b1c3f4c40c8e"
      },
      "execution_count": null,
      "outputs": [
        {
          "output_type": "stream",
          "name": "stdout",
          "text": [
            "--- Results of 'SELECT Names FROM games;' ---\n",
            "   Year\n",
            "0  2006\n",
            "1  1985\n",
            "2  2008\n",
            "3  2009\n",
            "4  1996\n"
          ]
        }
      ]
    },
    {
      "cell_type": "markdown",
      "source": [
        "### Part B: Selecting Specific Columns"
      ],
      "metadata": {
        "id": "Rrp6wP4yCc8w"
      }
    },
    {
      "cell_type": "code",
      "source": [
        "conn=sqlite3.connect(':memory:')\n",
        "vgsales_df.to_sql('games',conn,index=False)\n",
        "query=(\"SELECT Name,Year From games;\")\n",
        "results_df=pd.read_sql_query(query,conn)\n",
        "print(\"--- Results of 'SELECT Name, Year FROM games;' ---\")\n",
        "print(results_df)\n",
        "conn.close()"
      ],
      "metadata": {
        "colab": {
          "base_uri": "https://localhost:8080/"
        },
        "id": "QipVw5K37thO",
        "outputId": "244f05d7-2494-4270-8a27-1ea7d5fa0d9f"
      },
      "execution_count": null,
      "outputs": [
        {
          "output_type": "stream",
          "name": "stdout",
          "text": [
            "--- Results of 'SELECT Name, Year FROM games;' ---\n",
            "                       Name  Year\n",
            "0                Wii Sports  2006\n",
            "1          Super Mario Bros  1985\n",
            "2            Mario Kart Wii  2008\n",
            "3         Wii Sports Resort  2009\n",
            "4  Pokemon Red/Pokemon Blue  1996\n"
          ]
        }
      ]
    },
    {
      "cell_type": "code",
      "source": [
        "conn=sqlite3.connect(':memory:')\n",
        "vgsales_df.to_sql('games',conn,index=False)\n",
        "query=(\"SELECT Name,Platform,Genre FROM games;\")\n",
        "results_df=pd.read_sql_query(query,conn)\n",
        "print(\"--- Results of 'SELECT Name, Platform, Genre FROM games;' ---\")\n",
        "print(results_df)\n",
        "conn.close()"
      ],
      "metadata": {
        "colab": {
          "base_uri": "https://localhost:8080/"
        },
        "id": "UctclxreDYBh",
        "outputId": "978f0be7-954e-411a-9274-31d063ccaf27"
      },
      "execution_count": null,
      "outputs": [
        {
          "output_type": "stream",
          "name": "stdout",
          "text": [
            "--- Results of 'SELECT Name, Platform, Genre FROM games;' ---\n",
            "                       Name Platform         Genre\n",
            "0                Wii Sports      Wii        Sports\n",
            "1          Super Mario Bros      NES      Platform\n",
            "2            Mario Kart Wii      Wii        Racing\n",
            "3         Wii Sports Resort      Wii        Sports\n",
            "4  Pokemon Red/Pokemon Blue       GB  Role-Playing\n"
          ]
        }
      ]
    },
    {
      "cell_type": "markdown",
      "source": [
        "### Part C: Filtering with the *WHERE* Clause"
      ],
      "metadata": {
        "id": "nK-VDJGWEWuM"
      }
    },
    {
      "cell_type": "markdown",
      "source": [
        "The *WHERE* clause is used to filter rows and retrieve only the records that meet a specific condition. It's the primary tool for asking questions of your data. Text values must be enclosed in single quotes (e.g., WHERE Genre = 'Sports')."
      ],
      "metadata": {
        "id": "WDDak0734SFr"
      }
    },
    {
      "cell_type": "code",
      "source": [
        "import pandas as pd\n",
        "import sqlite3\n",
        "\n",
        "# Sample data\n",
        "data = {\n",
        "    'Name': ['Wii Sports', 'Super Mario Bros.', 'Mario Kart Wii', 'Wii Sports Resort', 'Pokemon Red/Pokemon Blue'],\n",
        "    'Platform': ['Wii', 'NES', 'Wii', 'Wii', 'GB'],\n",
        "    'Year': [2006, 1985, 2008, 2009, 1996],\n",
        "    'Genre': ['Sports', 'Platform', 'Racing', 'Sports', 'Role-Playing']\n",
        "}\n",
        "vgsales_df = pd.DataFrame(data)\n",
        "\n",
        "# --- Create database and table ---\n",
        "conn = sqlite3.connect(':memory:')\n",
        "vgsales_df.to_sql('games', conn, index=False)\n",
        "\n",
        "# Define a query with a WHERE clause\n",
        "query = \"SELECT * FROM games WHERE Platform = 'Wii';\"\n",
        "\n",
        "# Execute the query\n",
        "results_df = pd.read_sql_query(query, conn)\n",
        "\n",
        "print(\"--- Filtered results for 'Wii' platform ---\")\n",
        "print(results_df)\n",
        "\n",
        "conn.close()"
      ],
      "metadata": {
        "colab": {
          "base_uri": "https://localhost:8080/"
        },
        "id": "FklVpd4ZEY4R",
        "outputId": "33a85a0f-6a3f-446b-83a1-cd0394fa7711"
      },
      "execution_count": null,
      "outputs": [
        {
          "output_type": "stream",
          "name": "stdout",
          "text": [
            "--- Filtered results for 'Wii' platform ---\n",
            "                Name Platform  Year   Genre\n",
            "0         Wii Sports      Wii  2006  Sports\n",
            "1     Mario Kart Wii      Wii  2008  Racing\n",
            "2  Wii Sports Resort      Wii  2009  Sports\n"
          ]
        }
      ]
    },
    {
      "cell_type": "code",
      "source": [
        "conn=sqlite3.connect(':memory:')\n",
        "vgsales_df.to_sql('games',conn,index=False)\n",
        "query=\"SELECT Name,Year FROM games WHERE Genre ='Sports';\"\n",
        "results_df=pd.read_sql_query(query,conn)\n",
        "print(\"--- Filtered results with Name and Year for 'Sports' genre ---\")\n",
        "print(results_df)\n",
        "conn.close()"
      ],
      "metadata": {
        "colab": {
          "base_uri": "https://localhost:8080/"
        },
        "id": "C2Sj86TDEuqr",
        "outputId": "5665fb97-f56d-44fe-95ac-36f7e9579231"
      },
      "execution_count": null,
      "outputs": [
        {
          "output_type": "stream",
          "name": "stdout",
          "text": [
            "--- Filtered results with Name and Year for 'Sports' genre ---\n",
            "                Name  Year\n",
            "0         Wii Sports  2006\n",
            "1  Wii Sports Resort  2009\n"
          ]
        }
      ]
    },
    {
      "cell_type": "markdown",
      "source": [
        "### Part D: Sorting with *ORDER BY*\n"
      ],
      "metadata": {
        "id": "L6vJVqRzI_Ik"
      }
    },
    {
      "cell_type": "markdown",
      "source": [
        "The *ORDER BY* clause is used to sort the results of your query. By default, it sorts in ascending order (ASC). To sort in descending order (from highest to lowest), you must specify DESC."
      ],
      "metadata": {
        "id": "mq1YukOE4bxY"
      }
    },
    {
      "cell_type": "code",
      "source": [
        "conn=sqlite3.connect(':memory:')\n",
        "vgsales_df.to_sql('games',conn,index=False)\n",
        "query=\"SELECT * FROM games ORDER BY Year DESC;\"\n",
        "results_df=pd.read_sql_query(query,conn)\n",
        "print(\"--- Results sorted by Year (newest first) ---\")\n",
        "print(results_df)\n",
        "conn.close()"
      ],
      "metadata": {
        "id": "S0k_M--FIquR",
        "colab": {
          "base_uri": "https://localhost:8080/"
        },
        "outputId": "51330af3-544a-4c34-8bd8-b7a88f7b9955"
      },
      "execution_count": null,
      "outputs": [
        {
          "output_type": "stream",
          "name": "stdout",
          "text": [
            "--- Results sorted by Year (newest first) ---\n",
            "                       Name Platform  Year         Genre\n",
            "0         Wii Sports Resort      Wii  2009        Sports\n",
            "1            Mario Kart Wii      Wii  2008        Racing\n",
            "2                Wii Sports      Wii  2006        Sports\n",
            "3  Pokemon Red/Pokemon Blue       GB  1996  Role-Playing\n",
            "4         Super Mario Bros.      NES  1985      Platform\n"
          ]
        }
      ]
    },
    {
      "cell_type": "code",
      "source": [
        "conn=sqlite3.connect(':memory:')\n",
        "vgsales_df.to_sql('games',conn,index=False)\n",
        "query=\"SELECT Name,Platform FROM games WHERE Platform='Wii' ORDER BY Name ASC;\"\n",
        "results_df=pd.read_sql_query(query,conn)\n",
        "print(\"--- Results sorted by Name, Platform (Ascending order) ---\")\n",
        "print(results_df)\n",
        "conn.close()"
      ],
      "metadata": {
        "colab": {
          "base_uri": "https://localhost:8080/"
        },
        "id": "uV5lh2fXLJ2X",
        "outputId": "8ec93f09-2200-4407-a8cd-077a221b5a46"
      },
      "execution_count": null,
      "outputs": [
        {
          "output_type": "stream",
          "name": "stdout",
          "text": [
            "--- Results sorted by Name, Platform (Ascending order) ---\n",
            "                Name Platform\n",
            "0     Mario Kart Wii      Wii\n",
            "1         Wii Sports      Wii\n",
            "2  Wii Sports Resort      Wii\n"
          ]
        }
      ]
    },
    {
      "cell_type": "markdown",
      "source": [
        "### Part E: Summarizing Data with *COUNT* and *GROUP BY*"
      ],
      "metadata": {
        "id": "FulwVVczbRxb"
      }
    },
    {
      "cell_type": "markdown",
      "source": [
        "*COUNT*() is an aggregate function that counts the number of rows in a group.\n",
        "\n",
        "The GROUP BY clause is used with aggregate functions to group rows that have the same value in a column into a summary row. This allows COUNT() to count the items for each group.\n",
        "\n",
        "*AS* is used to create an alias, which renames a column in your result set to make it more readable (e.g., COUNT(*) AS NumberOfGames)."
      ],
      "metadata": {
        "id": "ifpr_Dk74iwN"
      }
    },
    {
      "cell_type": "code",
      "source": [
        "conn=sqlite3.connect(':memory:')\n",
        "vgsales_df.to_sql('games',conn,index=False)\n",
        "query=\"SELECT Platform, COUNT(*) AS NumberOfGames FROM games GROUP BY Platform;\"\n",
        "results_df = pd.read_sql_query(query, conn)\n",
        "print(\"--- Count of games per platform ---\")\n",
        "print(results_df)\n",
        "conn.close()"
      ],
      "metadata": {
        "id": "sEcAsLo6bPGz",
        "colab": {
          "base_uri": "https://localhost:8080/"
        },
        "outputId": "7ce2b346-cd46-4a6b-aa44-6e8b96fd7cff"
      },
      "execution_count": null,
      "outputs": [
        {
          "output_type": "stream",
          "name": "stdout",
          "text": [
            "--- Count of games per platform ---\n",
            "  Platform  NumberOfGames\n",
            "0       GB              1\n",
            "1      NES              1\n",
            "2      Wii              3\n"
          ]
        }
      ]
    },
    {
      "cell_type": "code",
      "source": [
        "conn=sqlite3.connect(':memory:')\n",
        "vgsales_df.to_sql('games',conn,index=False)\n",
        "query=\"SELECT Genre,COUNT(*) AS NumberOfGames FROM games GROUP BY Genre ORDER BY NumberOfGames DESC;\"\n",
        "results_df=pd.read_sql_query(query,conn)\n",
        "print(\"--- Count of games per genre ---\")\n",
        "print(results_df)\n",
        "conn.close()"
      ],
      "metadata": {
        "colab": {
          "base_uri": "https://localhost:8080/"
        },
        "id": "zNUcWXNHO8Xx",
        "outputId": "1c1ee4ec-5eee-4fab-a512-57c7aa830395"
      },
      "execution_count": null,
      "outputs": [
        {
          "output_type": "stream",
          "name": "stdout",
          "text": [
            "--- Count of games per genre ---\n",
            "          Genre  NumberOfGames\n",
            "0      Platform              1\n",
            "1        Racing              1\n",
            "2  Role-Playing              1\n",
            "3        Sports              2\n"
          ]
        }
      ]
    },
    {
      "cell_type": "markdown",
      "source": [
        "### Part F: Combining Tables with *JOIN*"
      ],
      "metadata": {
        "id": "rIDVk9PlQ2uU"
      }
    },
    {
      "cell_type": "markdown",
      "source": [
        "The *INNER JOIN* clause is used to combine rows from two or more tables.\n",
        "\n",
        "The *ON* clause specifies the rule for the join. It tells the database how to match rows between the tables by finding a common value in a related column (e.g., ON employees.DepartmentID = departments.DeptID)."
      ],
      "metadata": {
        "id": "zIcoXieSYlkw"
      }
    },
    {
      "cell_type": "code",
      "source": [
        "import pandas as pd\n",
        "import sqlite3\n",
        "games_data = {\n",
        "    'Name': ['Wii Sports', 'Super Mario Bros.', 'Mario Kart Wii'],\n",
        "    'Genre': ['Sports', 'Platform', 'Racing'],\n",
        "    'Publisher_ID': [1, 1, 2]\n",
        "}\n",
        "games_df=pd.DataFrame(games_data)\n",
        "publishers_data = {\n",
        "    'ID': [1, 2],\n",
        "    'Publisher_Name': ['Nintendo', 'Activision']\n",
        "}\n",
        "publishers_df=pd.DataFrame(publishers_data)\n",
        "conn=sqlite3.connect(':memory:')\n",
        "games_df.to_sql('games',conn,index=False)\n",
        "publishers_df.to_sql('publishers',conn,index=False)\n",
        "query=\"\"\"\n",
        "SELECT\n",
        "  games.Name,\n",
        "  games.Genre,\n",
        "  publishers.Publisher_Name\n",
        "FROM\n",
        "  games\n",
        "INNER JOIN\n",
        "  publishers ON games.Publisher_ID=publishers.ID;\n",
        "\"\"\"\n",
        "results_df = pd.read_sql_query(query, conn)\n",
        "print(\"--- Results of JOINing games and publishers ---\")\n",
        "print(results_df)\n",
        "conn.close()"
      ],
      "metadata": {
        "colab": {
          "base_uri": "https://localhost:8080/"
        },
        "id": "sta28CX_FMJL",
        "outputId": "6b256211-bcae-4876-90b6-45cd7c9f0e41"
      },
      "execution_count": null,
      "outputs": [
        {
          "output_type": "stream",
          "name": "stdout",
          "text": [
            "--- Results of JOINing games and publishers ---\n",
            "                Name     Genre Publisher_Name\n",
            "0         Wii Sports    Sports       Nintendo\n",
            "1  Super Mario Bros.  Platform       Nintendo\n",
            "2     Mario Kart Wii    Racing     Activision\n"
          ]
        }
      ]
    },
    {
      "cell_type": "code",
      "source": [],
      "metadata": {
        "id": "KL5ukAbYV9lg"
      },
      "execution_count": null,
      "outputs": []
    },
    {
      "cell_type": "markdown",
      "source": [
        "###*Practice Problem: Employee Department Analysis*"
      ],
      "metadata": {
        "id": "I2MNg4BAU5ti"
      }
    },
    {
      "cell_type": "markdown",
      "source": [
        "Goal: Determine the number of employees in each department."
      ],
      "metadata": {
        "id": "tyfGQmnc4zmS"
      }
    },
    {
      "cell_type": "code",
      "source": [
        "import pandas as pd\n",
        "import sqlite3\n",
        "employees_data = {\n",
        "    'EmployeeID': [101, 102, 103, 104, 105, 106],\n",
        "    'EmployeeName': ['Rohan', 'Priya', 'Anjali', 'Vikram', 'Sonia', 'Rahul'],\n",
        "    'DepartmentID': [1, 2, 1, 3, 2, 1]\n",
        "}\n",
        "departments_data = {\n",
        "    'DeptID': [1, 2, 3],\n",
        "    'DepartmentName': ['Engineering', 'Marketing', 'Sales']\n",
        "}\n",
        "employees_df=pd.DataFrame(employees_data)\n",
        "departments_df=pd.DataFrame(departments_data)\n",
        "conn=sqlite3.connect(':memory:')\n",
        "employees_df.to_sql('e',conn,index=False)\n",
        "departments_df.to_sql('d',conn,index=False)\n",
        "query=\"\"\"\n",
        "SELECT\n",
        "  d.DepartmentName,\n",
        "  COUNT(e.DepartmentID) AS EmployeeCount\n",
        "FROM\n",
        "  e\n",
        "INNER JOIN\n",
        "  d ON e.DepartmentID=d.DeptID\n",
        "GROUP BY\n",
        "  d.DepartmentName;\n",
        "\"\"\"\n",
        "results_df = pd.read_sql_query(query, conn)\n",
        "print(\"--- Number of Employees per Department ---\")\n",
        "print(results_df)\n",
        "\n",
        "conn.close()"
      ],
      "metadata": {
        "colab": {
          "base_uri": "https://localhost:8080/"
        },
        "id": "nT-bA_3dVBAS",
        "outputId": "d1b86428-dee7-45ae-a13a-66208c7cd883"
      },
      "execution_count": 14,
      "outputs": [
        {
          "output_type": "stream",
          "name": "stdout",
          "text": [
            "--- Number of Employees per Department ---\n",
            "  DepartmentName  EmployeeCount\n",
            "0    Engineering              3\n",
            "1      Marketing              2\n",
            "2          Sales              1\n"
          ]
        }
      ]
    },
    {
      "cell_type": "markdown",
      "source": [
        "###*Practice Problem: Student Course Enrollment*"
      ],
      "metadata": {
        "id": "9chTdhy7YXcL"
      }
    },
    {
      "cell_type": "markdown",
      "source": [
        "Goal: Find the names of all students who are enrolled in the 'Data Science' course."
      ],
      "metadata": {
        "id": "Mb7yW_7OYgk6"
      }
    },
    {
      "cell_type": "code",
      "source": [
        "import pandas as pd\n",
        "import sqlite3\n",
        "students_data = {\n",
        "    'StudentID': [1, 2, 3, 4],\n",
        "    'StudentName': ['Priya', 'Amit', 'Rohan', 'Sonia']\n",
        "}\n",
        "courses_data = {\n",
        "    'CourseID': [101, 102, 103],\n",
        "    'CourseName': ['History', 'Data Science', 'Mathematics']\n",
        "}\n",
        "enrollments_data = {\n",
        "    'StudentID': [1, 2, 2, 3, 4, 4],\n",
        "    'CourseID': [101, 101, 102, 103, 102, 103]\n",
        "}\n",
        "students_df=pd.DataFrame(students_data)\n",
        "courses_df=pd.DataFrame(courses_data)\n",
        "enrollments_df=pd.DataFrame(enrollments_data)\n",
        "conn=sqlite3.connect(':memory:')\n",
        "students_df.to_sql('students',conn,index=False)\n",
        "courses_df.to_sql('courses',conn,index=False)\n",
        "enrollments_df.to_sql('enrollments',conn,index=False)\n",
        "query=\"\"\"\n",
        "SELECT\n",
        "  s.StudentName\n",
        "FROM\n",
        "  students AS s\n",
        "INNER JOIN\n",
        "  enrollments AS e ON s.StudentID=e.StudentID\n",
        "INNER JOIN\n",
        "  courses as c ON e.CourseID=c.CourseID\n",
        "WHERE\n",
        "  c.CourseName='Data Science';\n",
        "\"\"\"\n",
        "results_df=pd.read_sql_query(query,conn)\n",
        "print(\"--- NAMES OF DS STUDENTS ---\")\n",
        "print(results_df)\n",
        "conn.close()"
      ],
      "metadata": {
        "colab": {
          "base_uri": "https://localhost:8080/"
        },
        "id": "8wcjQyq5YcqF",
        "outputId": "29bbe93e-c85b-46a7-b377-042f57b012c2"
      },
      "execution_count": 13,
      "outputs": [
        {
          "output_type": "stream",
          "name": "stdout",
          "text": [
            "--- NAMES OF DS STUDENTS ---\n",
            "  StudentName\n",
            "0        Amit\n",
            "1       Sonia\n"
          ]
        }
      ]
    }
  ]
}